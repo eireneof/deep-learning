{
  "nbformat": 4,
  "nbformat_minor": 0,
  "metadata": {
    "colab": {
      "provenance": [],
      "collapsed_sections": [
        "mY26uyTgYvTy",
        "q2sFwaGNoJQk",
        "lEM8AZPO10c_",
        "zjFIT2Dn4dm7",
        "aZtCbzxU5xjU",
        "mq4ZLIBJ7Sfv",
        "0gp5qwtl7sou",
        "Ns4kcyZfBdyG",
        "Nqgj0U_IGHAL",
        "uF8CBMJiG3ro"
      ]
    },
    "kernelspec": {
      "name": "python3",
      "display_name": "Python 3"
    },
    "language_info": {
      "name": "python"
    }
  },
  "cells": [
    {
      "cell_type": "markdown",
      "source": [
        "# NumPy Tutorial"
      ],
      "metadata": {
        "id": "3azHXXz4GZaS"
      }
    },
    {
      "cell_type": "code",
      "source": [
        "import numpy as np\n",
        "import matplotlib.pyplot as plt\n",
        "from PIL import Image\n"
      ],
      "metadata": {
        "id": "d1hXJDsCGnVZ"
      },
      "execution_count": 190,
      "outputs": []
    },
    {
      "cell_type": "markdown",
      "source": [
        "## NumPy Array"
      ],
      "metadata": {
        "id": "mY26uyTgYvTy"
      }
    },
    {
      "cell_type": "code",
      "execution_count": 6,
      "metadata": {
        "colab": {
          "base_uri": "https://localhost:8080/"
        },
        "id": "ffNASGASGX5V",
        "outputId": "7fc35455-2d9b-4fb1-caca-22ee83445002"
      },
      "outputs": [
        {
          "output_type": "stream",
          "name": "stdout",
          "text": [
            "[4604930618986332160 4604930618986332160                   0]\n",
            "[7 7 7 7 7]\n"
          ]
        }
      ],
      "source": [
        "# How to create an empty and a full NumPy array?\n",
        "\n",
        "empty = np.empty(3, dtype=int)\n",
        "print(empty)\n",
        "\n",
        "full = np.full(5, 7, dtype=int)\n",
        "print(full)"
      ]
    },
    {
      "cell_type": "code",
      "source": [
        "# Create a Numpy array filled with all zeros\n",
        "\n",
        "zeros_array = np.zeros(5)\n",
        "print(zeros_array)\n"
      ],
      "metadata": {
        "colab": {
          "base_uri": "https://localhost:8080/"
        },
        "id": "id_m3rWdIV1Q",
        "outputId": "c610cfb6-d319-456d-b97c-185684f8caa1"
      },
      "execution_count": 7,
      "outputs": [
        {
          "output_type": "stream",
          "name": "stdout",
          "text": [
            "[0. 0. 0. 0. 0.]\n"
          ]
        }
      ]
    },
    {
      "cell_type": "code",
      "source": [
        "# Create a Numpy array filled with all ones\n",
        "\n",
        "all_ones_array = np.ones(7)\n",
        "print(all_ones_array)"
      ],
      "metadata": {
        "colab": {
          "base_uri": "https://localhost:8080/"
        },
        "id": "-0FyFmiIJF2h",
        "outputId": "2e76e800-b6c4-4a03-b998-158ae595be32"
      },
      "execution_count": 8,
      "outputs": [
        {
          "output_type": "stream",
          "name": "stdout",
          "text": [
            "[1. 1. 1. 1. 1. 1. 1.]\n"
          ]
        }
      ]
    },
    {
      "cell_type": "code",
      "source": [
        "# Check whether a Numpy array contains a specified row\n",
        "\n",
        "array = np.array([[1, 2, 3, 4], [5, 6, 7, 8], [9, 10, 11, 12]])\n",
        "print(array)\n",
        "\n",
        "row = np.array([5, 6, 7, 8])\n",
        "\n",
        "result = np.isin(array, row).all(axis=1)\n",
        "print(result)\n",
        "\n",
        "row_index = np.argwhere(result == True)\n",
        "print(row_index)\n",
        "\n"
      ],
      "metadata": {
        "colab": {
          "base_uri": "https://localhost:8080/"
        },
        "id": "WMXDfUIlKOqa",
        "outputId": "6a533d6c-af9f-4b5f-c520-1c0e9ebf5a2e"
      },
      "execution_count": 12,
      "outputs": [
        {
          "output_type": "stream",
          "name": "stdout",
          "text": [
            "[[ 1  2  3  4]\n",
            " [ 5  6  7  8]\n",
            " [ 9 10 11 12]]\n",
            "[False  True False]\n",
            "[[1]]\n"
          ]
        }
      ]
    },
    {
      "cell_type": "code",
      "source": [
        "# How to Remove rows in Numpy array that contains non-numeric values?\n",
        "\n",
        "n_arr = np.array([[10.5, 22.5, 3.8],\n",
        "                  [41, np.nan, np.nan]])\n",
        "print(n_arr[~np.isnan(n_arr).any(axis=1)])\n",
        "\n"
      ],
      "metadata": {
        "colab": {
          "base_uri": "https://localhost:8080/"
        },
        "id": "yupJVxAYLYoI",
        "outputId": "1ed9c32b-0c35-41bf-88e8-c1c841c557c5"
      },
      "execution_count": 24,
      "outputs": [
        {
          "output_type": "stream",
          "name": "stdout",
          "text": [
            "[[10.5 22.5  3.8]]\n"
          ]
        }
      ]
    },
    {
      "cell_type": "code",
      "source": [
        "# Remove single-dimensional entries from the shape of an array\n",
        "\n",
        "arr = np.array([[1], [2], [3]])\n",
        "new_arr = np.squeeze(arr)\n",
        "print(new_arr, new_arr.shape)"
      ],
      "metadata": {
        "colab": {
          "base_uri": "https://localhost:8080/"
        },
        "id": "v9Qn3-y5LqM7",
        "outputId": "e34657b8-6f17-4e74-9fbc-4c0f76833faa"
      },
      "execution_count": 27,
      "outputs": [
        {
          "output_type": "stream",
          "name": "stdout",
          "text": [
            "[1 2 3] (3,)\n"
          ]
        }
      ]
    },
    {
      "cell_type": "code",
      "source": [
        "# Find the number of occurrences of a sequence in a NumPy array\n",
        "\n",
        "arr = np.array([[2, 8, 2, 3], \n",
        "                   [2, 4, 2, 3],\n",
        "                   [4, 5, 9, 7],\n",
        "                   [2, 9, 2, 3]])\n",
        "  \n",
        "\n",
        "output = repr(arr).count(\"2, 3\")\n",
        "print(output)"
      ],
      "metadata": {
        "colab": {
          "base_uri": "https://localhost:8080/"
        },
        "id": "Iy01GiSwOZ3k",
        "outputId": "4942d044-1a6a-4be4-ec11-eb6fa04384d6"
      },
      "execution_count": 28,
      "outputs": [
        {
          "output_type": "stream",
          "name": "stdout",
          "text": [
            "3\n"
          ]
        }
      ]
    },
    {
      "cell_type": "code",
      "source": [
        "# Find the most frequent value in a NumPy array\n",
        "\n",
        "arr = np.array([1,9,3,4,0,1,7,7,1,1])\n",
        "most_freq = np.bincount(arr).argmax()\n",
        "print(most_freq)\n"
      ],
      "metadata": {
        "colab": {
          "base_uri": "https://localhost:8080/"
        },
        "id": "hh-_SvWAW0px",
        "outputId": "ab731d85-b272-4bcf-ec18-8f1a8aec49b6"
      },
      "execution_count": 29,
      "outputs": [
        {
          "output_type": "stream",
          "name": "stdout",
          "text": [
            "1\n"
          ]
        }
      ]
    },
    {
      "cell_type": "code",
      "source": [
        "# Combining a one and a two-dimensional NumPy Array\n",
        "\n",
        "arr1 = np.arange(5)\n",
        "arr2 = np.arange(10).reshape(2,5)\n",
        "\n",
        "print(arr1)\n",
        "print(arr2)\n",
        "\n",
        "for a, b in np.nditer([arr1, arr2]):\n",
        "    print(\"%d:%d\" % (a, b),)"
      ],
      "metadata": {
        "colab": {
          "base_uri": "https://localhost:8080/"
        },
        "id": "89fogs7TXMk3",
        "outputId": "103f37ac-a8b2-4963-dbae-5c69505f5b2a"
      },
      "execution_count": 31,
      "outputs": [
        {
          "output_type": "stream",
          "name": "stdout",
          "text": [
            "[0 1 2 3 4]\n",
            "[[0 1 2 3 4]\n",
            " [5 6 7 8 9]]\n",
            "0:0\n",
            "1:1\n",
            "2:2\n",
            "3:3\n",
            "4:4\n",
            "0:5\n",
            "1:6\n",
            "2:7\n",
            "3:8\n",
            "4:9\n"
          ]
        }
      ]
    },
    {
      "cell_type": "code",
      "source": [
        "# How to build an array of all combinations of two NumPy arrays?\n",
        "  \n",
        "array_1 = np.array([1, 2])\n",
        "array_2 = np.array([4, 6])\n",
        "\n",
        "print(array_1)\n",
        "print(array_2)\n",
        "\n",
        "comb_array = np.array(np.meshgrid(array_1, array_2)).T.reshape(-1, 2)\n",
        "print(comb_array)"
      ],
      "metadata": {
        "colab": {
          "base_uri": "https://localhost:8080/"
        },
        "id": "gowhqSZbYX10",
        "outputId": "7d7b5fe3-cf62-4b76-da5a-8870965dcc0c"
      },
      "execution_count": 32,
      "outputs": [
        {
          "output_type": "stream",
          "name": "stdout",
          "text": [
            "[1 2]\n",
            "[4 6]\n",
            "[[1 4]\n",
            " [1 6]\n",
            " [2 4]\n",
            " [2 6]]\n"
          ]
        }
      ]
    },
    {
      "cell_type": "code",
      "source": [
        "# How to add a border around a NumPy array?\n",
        "\n",
        "array = np.ones((2, 2))\n",
        "print(array)\n",
        "array = np.pad(array, pad_width=1, mode='constant',\n",
        "               constant_values=0)\n",
        "\n",
        "print(array)"
      ],
      "metadata": {
        "colab": {
          "base_uri": "https://localhost:8080/"
        },
        "id": "M7UjQoB3Y-sl",
        "outputId": "eee755f7-a31a-4c5a-de01-3b25a6bf6c2f"
      },
      "execution_count": 33,
      "outputs": [
        {
          "output_type": "stream",
          "name": "stdout",
          "text": [
            "[[1. 1.]\n",
            " [1. 1.]]\n",
            "[[0. 0. 0. 0.]\n",
            " [0. 1. 1. 0.]\n",
            " [0. 1. 1. 0.]\n",
            " [0. 0. 0. 0.]]\n"
          ]
        }
      ]
    },
    {
      "cell_type": "code",
      "source": [
        "# How to compare two NumPy arrays?\n",
        "\n",
        "# check if arrays are equivalent\n",
        "an_array = np.array([[1, 2], [3, 4]])\n",
        "another_array = np.array([[1, 2], [3, 4]])\n",
        " \n",
        "comparison = an_array == another_array\n",
        "equal_arrays = comparison.all()\n",
        " \n",
        "print(equal_arrays)\n",
        "print('\\n-------------')\n",
        "\n",
        "# check if arrays are greater than, less than and equal \n",
        "\n",
        "a = np.array([101, 99, 87])\n",
        "b = np.array([897, 97, 111])\n",
        " \n",
        "# >\n",
        "print(np.greater(a, b))\n",
        " \n",
        "# >=\n",
        "print(np.greater_equal(a, b))\n",
        " \n",
        "# <\n",
        "print(np.less(a, b))\n",
        " \n",
        "# <=\n",
        "print(np.less_equal(a, b))\n",
        "print('\\n-------------')\n",
        "\n",
        "# check if arrays have the same elements and same shape\n",
        "\n",
        "arr1 = np.array([[1, 2], [3, 4]])\n",
        "arr2 = np.array([[1, 2], [3, 4]])\n",
        "\n",
        "if np.array_equal(arr1, arr2):\n",
        "    print(\"==\")\n",
        "else:\n",
        "    print(\"!=\")\n",
        "print('\\n-------------')\n"
      ],
      "metadata": {
        "colab": {
          "base_uri": "https://localhost:8080/"
        },
        "id": "lPoSTrkNZU4P",
        "outputId": "a3b1a5ff-b16b-4fbe-a44d-38863a156b18"
      },
      "execution_count": 36,
      "outputs": [
        {
          "output_type": "stream",
          "name": "stdout",
          "text": [
            "True\n",
            "\n",
            "-------------\n",
            "[False  True False]\n",
            "[False  True False]\n",
            "[ True False  True]\n",
            "[ True False  True]\n",
            "\n",
            "-------------\n",
            "==\n",
            "\n",
            "-------------\n"
          ]
        }
      ]
    },
    {
      "cell_type": "code",
      "source": [
        "# How to check whether specified values are present in NumPy array?\n",
        "\n",
        "array = np.array([[1, 2, 3],\n",
        "                    [4, 5, 6]])\n",
        "print(array)\n",
        "  \n",
        "print(2 in array)\n",
        "print(20 in array)\n",
        "print(6 in array)\n",
        "print(7 in array)\n",
        "\n"
      ],
      "metadata": {
        "colab": {
          "base_uri": "https://localhost:8080/"
        },
        "id": "5kQ2mTMKaxBS",
        "outputId": "0087b42f-3f36-4eef-99b3-191fde59696c"
      },
      "execution_count": 38,
      "outputs": [
        {
          "output_type": "stream",
          "name": "stdout",
          "text": [
            "[[1 2 3]\n",
            " [4 5 6]]\n",
            "True\n",
            "False\n",
            "True\n",
            "False\n"
          ]
        }
      ]
    },
    {
      "cell_type": "code",
      "source": [
        "# How to get all 2D diagonals of a 3D NumPy array?\n",
        "\n",
        "array = np.arange(3 * 4 * 4).reshape(3, 4, 4)\n",
        "  \n",
        "diagonals_array = np.diagonal(array, axis1 = 1, axis2 = 2)\n",
        "  \n",
        "print(diagonals_array)\n"
      ],
      "metadata": {
        "colab": {
          "base_uri": "https://localhost:8080/"
        },
        "id": "wNcFwgI-bYuG",
        "outputId": "fdb2b5eb-c496-4c9d-928a-4bd6c74a28f2"
      },
      "execution_count": 39,
      "outputs": [
        {
          "output_type": "stream",
          "name": "stdout",
          "text": [
            "[[ 0  5 10 15]\n",
            " [16 21 26 31]\n",
            " [32 37 42 47]]\n"
          ]
        }
      ]
    },
    {
      "cell_type": "code",
      "source": [
        "# Flatten a Matrix in Python using NumPy\n",
        "\n",
        "array = np.array([[1, 2, 3], [4, 5, 6], [7, 8, 9]])\n",
        "flat_array = array.flatten()\n",
        "print(flat_array)"
      ],
      "metadata": {
        "colab": {
          "base_uri": "https://localhost:8080/"
        },
        "id": "U9mLz0vHcXzt",
        "outputId": "bcf6b3cb-cc76-44b5-d50c-5403843875b5"
      },
      "execution_count": 40,
      "outputs": [
        {
          "output_type": "stream",
          "name": "stdout",
          "text": [
            "[1 2 3 4 5 6 7 8 9]\n"
          ]
        }
      ]
    },
    {
      "cell_type": "code",
      "source": [
        "# Flatten a 2d numpy array into 1d array \n",
        "\n",
        "array = np.array([[1, 2, 3], [4, 5, 6], [7, 8, 9]])\n",
        "flat_array = array.flatten()\n",
        "print(flat_array)"
      ],
      "metadata": {
        "id": "-W82qZOSctRw"
      },
      "execution_count": null,
      "outputs": []
    },
    {
      "cell_type": "code",
      "source": [
        "# Move axes of an array to new positions\n",
        "\n",
        "arr = np.zeros((1, 2, 3, 4))\n",
        "new_arr = np.moveaxis(arr, 0, -1).shape\n",
        "print(new_arr)"
      ],
      "metadata": {
        "colab": {
          "base_uri": "https://localhost:8080/"
        },
        "id": "0i3rb-Enijj7",
        "outputId": "017d2380-8800-4f85-f850-7ff6ecae09a0"
      },
      "execution_count": 45,
      "outputs": [
        {
          "output_type": "stream",
          "name": "stdout",
          "text": [
            "(2, 3, 4, 1)\n"
          ]
        }
      ]
    },
    {
      "cell_type": "code",
      "source": [
        "# Interchange two axes of an array\n",
        "\n",
        "arr = np.array([[2, 4, 6]])\n",
        "new_array = np.swapaxes(arr, 0, 1)\n",
        "print(new_array)"
      ],
      "metadata": {
        "colab": {
          "base_uri": "https://localhost:8080/"
        },
        "id": "54zWYZ5BjUoe",
        "outputId": "84ca21e5-bafa-4a45-acbf-9ec3297bef66"
      },
      "execution_count": 46,
      "outputs": [
        {
          "output_type": "stream",
          "name": "stdout",
          "text": [
            "[[2]\n",
            " [4]\n",
            " [6]]\n"
          ]
        }
      ]
    },
    {
      "cell_type": "code",
      "source": [
        "# NumPy – Fibonacci Series using Binet Formula\n",
        "\n",
        "n = 10\n",
        "array = np.arange(1, n)\n",
        "sqrt_five = np.sqrt(5)\n",
        "alpha = (1 + sqrt_five) / 2\n",
        "beta = (1 - sqrt_five) / 2\n",
        "\n",
        "fibonacci = np.rint(((alpha ** array) - (beta ** array)) / (sqrt_five))\n",
        "\n",
        "print(fibonacci)"
      ],
      "metadata": {
        "colab": {
          "base_uri": "https://localhost:8080/"
        },
        "id": "HwERVF0XjxdO",
        "outputId": "27a7417a-279b-40c3-9dc3-71431adba4d0"
      },
      "execution_count": 47,
      "outputs": [
        {
          "output_type": "stream",
          "name": "stdout",
          "text": [
            "[ 1.  1.  2.  3.  5.  8. 13. 21. 34.]\n"
          ]
        }
      ]
    },
    {
      "cell_type": "code",
      "source": [
        "# Counts the number of non-zero values in the array\n",
        "\n",
        "arr = [0, 1, 2, 3, 0]\n",
        "n_non_zeros = np.count_nonzero(arr)\n",
        "print(n_non_zeros) "
      ],
      "metadata": {
        "colab": {
          "base_uri": "https://localhost:8080/"
        },
        "id": "4lxwgx6yksbL",
        "outputId": "3d36b9e6-38a5-4b17-a82a-c5578bea0e1e"
      },
      "execution_count": 48,
      "outputs": [
        {
          "output_type": "stream",
          "name": "stdout",
          "text": [
            "3\n"
          ]
        }
      ]
    },
    {
      "cell_type": "code",
      "source": [
        "# Count the number of elements along a given axis\n",
        "\n",
        "#row\n",
        "\n",
        "arr = np.array([[1, 2, 3], [4, 5, 6], [7, 8, 9]])\n",
        "row_count = arr.shape[0]\n",
        "print(row_count)\n",
        "\n",
        "# column\n",
        "\n",
        "arr = np.array([[1, 2, 3], [4, 5, 6], [7, 8, 9]])\n",
        "column_count = arr.shape[1]\n",
        "print(column_count)\n",
        "\n"
      ],
      "metadata": {
        "colab": {
          "base_uri": "https://localhost:8080/"
        },
        "id": "I5gQo-delFbg",
        "outputId": "685a9ad6-4f74-4e12-8912-7dafc36a609e"
      },
      "execution_count": 50,
      "outputs": [
        {
          "output_type": "stream",
          "name": "stdout",
          "text": [
            "3\n",
            "3\n"
          ]
        }
      ]
    },
    {
      "cell_type": "code",
      "source": [
        "# Trim the leading and/or trailing zeros from a 1-D array\n",
        "\n",
        "# without leading and trailing zeros \n",
        "array = np.array((0, 0, 0, 0, 1, 5, 7, 0, 6, 2, 9, 0, 10, 0, 0))\n",
        "res = np.trim_zeros(array)\n",
        "print(res)\n",
        "\n",
        "# without any leading  zeros \n",
        "\n",
        "array = np.array((0, 0, 0, 0, 1, 5, 7, 0, 6, 2, 9, 0, 10, 0, 0))\n",
        "res = np.trim_zeros(array, 'f')\n",
        "print(res)\n",
        "\n",
        "# without any trailing  zeros \n",
        "\n",
        "array = np.array((0, 0, 0, 0, 1, 5, 7, 0, 6, 2, 9, 0, 10, 0, 0)) \n",
        "res = np.trim_zeros(array, 'b')\n",
        "print(res)\n",
        "\n"
      ],
      "metadata": {
        "colab": {
          "base_uri": "https://localhost:8080/"
        },
        "id": "6XLPVBK_mG2q",
        "outputId": "1503d127-7303-4afe-ccc6-c1c55999c298"
      },
      "execution_count": 53,
      "outputs": [
        {
          "output_type": "stream",
          "name": "stdout",
          "text": [
            "[ 1  5  7  0  6  2  9  0 10]\n",
            "[ 1  5  7  0  6  2  9  0 10  0  0]\n",
            "[ 0  0  0  0  1  5  7  0  6  2  9  0 10]\n"
          ]
        }
      ]
    },
    {
      "cell_type": "code",
      "source": [
        "# Change data type of given numpy array\n",
        "\n",
        "arr = np.array([10, 20, 30, 40, 50])\n",
        "print(arr.dtype)\n",
        "arr = arr.astype('float64')\n",
        "print(arr.dtype)\n"
      ],
      "metadata": {
        "colab": {
          "base_uri": "https://localhost:8080/"
        },
        "id": "K0WDQyKhmwSk",
        "outputId": "937430c8-c7a8-4523-a021-5f678a72e38e"
      },
      "execution_count": 55,
      "outputs": [
        {
          "output_type": "stream",
          "name": "stdout",
          "text": [
            "int64\n",
            "float64\n"
          ]
        }
      ]
    },
    {
      "cell_type": "code",
      "source": [
        "# Reverse a numpy array\n",
        "\n",
        "array = np.array([1, 2, 3, 6, 4, 5])\n",
        "array = np.flip(array)\n",
        "print(array)"
      ],
      "metadata": {
        "colab": {
          "base_uri": "https://localhost:8080/"
        },
        "id": "c7wMerZinHyo",
        "outputId": "bee16beb-de9a-437a-de2e-a90d0123ad6c"
      },
      "execution_count": 56,
      "outputs": [
        {
          "output_type": "stream",
          "name": "stdout",
          "text": [
            "[5 4 6 3 2 1]\n"
          ]
        }
      ]
    },
    {
      "cell_type": "code",
      "source": [
        "# How to make a NumPy array read-only?\n",
        "\n",
        "array = np.zeros(11)\n",
        "array.setflags(write=False)"
      ],
      "metadata": {
        "id": "pHUb5nf_nWJ9"
      },
      "execution_count": 57,
      "outputs": []
    },
    {
      "cell_type": "markdown",
      "source": [
        "## Questions on NumPy Matrix\n"
      ],
      "metadata": {
        "id": "q2sFwaGNoJQk"
      }
    },
    {
      "cell_type": "code",
      "source": [
        "matrix = np.array([[1, 2, 3], [4, 5, 6], [7, 8, 9]])\n",
        "\n",
        "matrix1 = np.array([[1, 2, 3], [4, 5, 6], [7, 8, 9]])\n",
        "matrix2 = np.array([[9, 8, 7], [6, 5, 4], [3, 2, 1]])"
      ],
      "metadata": {
        "id": "0RO7YjeHqvAu"
      },
      "execution_count": 86,
      "outputs": []
    },
    {
      "cell_type": "code",
      "source": [
        "# Find the maximum value in the matrix\n",
        "\n",
        "max_value = np.amax(matrix)\n",
        "print(\"Maximum value in the matrix:\", max_value)"
      ],
      "metadata": {
        "colab": {
          "base_uri": "https://localhost:8080/"
        },
        "id": "1HdFwxOcoPIU",
        "outputId": "dd23236d-47ac-4462-993a-bfb5c0623b82"
      },
      "execution_count": 62,
      "outputs": [
        {
          "output_type": "stream",
          "name": "stdout",
          "text": [
            "Maximum value in the matrix: 9\n"
          ]
        }
      ]
    },
    {
      "cell_type": "code",
      "source": [
        "# Find the minimum value in the matrix\n",
        "\n",
        "min_value = np.amin(matrix)\n",
        "print(\"Minimum value in the matrix:\", min_value)\n"
      ],
      "metadata": {
        "colab": {
          "base_uri": "https://localhost:8080/"
        },
        "id": "gSUivZglqmg4",
        "outputId": "96d4b73d-6779-44b6-bcc3-54e168ae7b74"
      },
      "execution_count": 63,
      "outputs": [
        {
          "output_type": "stream",
          "name": "stdout",
          "text": [
            "Minimum value in the matrix: 1\n"
          ]
        }
      ]
    },
    {
      "cell_type": "code",
      "source": [
        "# Find the number of rows and columns in the matrix\n",
        "\n",
        "num_rows, num_columns = matrix.shape\n",
        "print(\"Number of rows:\", num_rows)\n",
        "print(\"Number of columns:\", num_columns)"
      ],
      "metadata": {
        "colab": {
          "base_uri": "https://localhost:8080/"
        },
        "id": "S8DYjMv2qqbs",
        "outputId": "94085d5c-390e-4af4-f23c-bcd8d9b65269"
      },
      "execution_count": 64,
      "outputs": [
        {
          "output_type": "stream",
          "name": "stdout",
          "text": [
            "Number of rows: 3\n",
            "Number of columns: 3\n"
          ]
        }
      ]
    },
    {
      "cell_type": "code",
      "source": [
        "# Select elements from the matrix\n",
        "\n",
        "selected_elements = matrix[1:, 1:]\n",
        "print(\"Selected elements:\")\n",
        "print(selected_elements)"
      ],
      "metadata": {
        "colab": {
          "base_uri": "https://localhost:8080/"
        },
        "id": "lR4Qecotq06H",
        "outputId": "f4ec3a88-4b2a-419e-ba7d-fca3988a1c35"
      },
      "execution_count": 67,
      "outputs": [
        {
          "output_type": "stream",
          "name": "stdout",
          "text": [
            "Selected elements:\n",
            "[[5 6]\n",
            " [8 9]]\n"
          ]
        }
      ]
    },
    {
      "cell_type": "code",
      "source": [
        "# Find the sum of values in the matrix\n",
        "\n",
        "matrix_sum = np.sum(matrix)\n",
        "print(\"Sum of values in the matrix:\", matrix_sum)"
      ],
      "metadata": {
        "colab": {
          "base_uri": "https://localhost:8080/"
        },
        "id": "4rJdm84lq8zj",
        "outputId": "93a39d22-c935-425b-e41c-b601eac7545b"
      },
      "execution_count": 68,
      "outputs": [
        {
          "output_type": "stream",
          "name": "stdout",
          "text": [
            "Sum of values in the matrix: 45\n"
          ]
        }
      ]
    },
    {
      "cell_type": "code",
      "source": [
        "# Calculate the sum of the diagonal elements\n",
        "\n",
        "diagonal_sum = np.trace(matrix)\n",
        "print(\"Sum of diagonal elements:\", diagonal_sum)\n"
      ],
      "metadata": {
        "colab": {
          "base_uri": "https://localhost:8080/"
        },
        "id": "lWl_KMxIrBkE",
        "outputId": "9ef51504-1c34-4006-f45c-678299a923e0"
      },
      "execution_count": 69,
      "outputs": [
        {
          "output_type": "stream",
          "name": "stdout",
          "text": [
            "Sum of diagonal elements: 15\n"
          ]
        }
      ]
    },
    {
      "cell_type": "code",
      "source": [
        "# Adding and Subtracting Matrices in Python\n",
        "\n",
        "# Add the matrices\n",
        "matrix_sum = np.add(matrix1, matrix2)\n",
        "print(\"Sum of matrices:\")\n",
        "print(matrix_sum)\n",
        "\n",
        "# Subtract the matrices\n",
        "matrix_difference = np.subtract(matrix1, matrix2)\n",
        "print(\"Difference of matrices:\")\n",
        "print(matrix_difference)"
      ],
      "metadata": {
        "colab": {
          "base_uri": "https://localhost:8080/"
        },
        "id": "yvgs4pVUrz_Y",
        "outputId": "bfd40367-0bc4-4768-f5a8-835d5cdcbcca"
      },
      "execution_count": 70,
      "outputs": [
        {
          "output_type": "stream",
          "name": "stdout",
          "text": [
            "Sum of matrices:\n",
            "[[10 10 10]\n",
            " [10 10 10]\n",
            " [10 10 10]]\n",
            "Difference of matrices:\n",
            "[[-8 -6 -4]\n",
            " [-2  0  2]\n",
            " [ 4  6  8]]\n"
          ]
        }
      ]
    },
    {
      "cell_type": "code",
      "source": [
        "# Ways to add row/columns in numpy array\n",
        "\n",
        "# Add a row to the matrix\n",
        "new_row = np.array([[10, 11, 12]])\n",
        "matrix_new_row = np.concatenate((matrix1, new_row), axis=0)\n",
        "print(\"Matrix with new row:\")\n",
        "print(matrix_new_row)\n",
        "\n",
        "# Add a column to the matrix\n",
        "new_column = np.array([[10], [11], [12], [13]])\n",
        "matrix_new_column = np.concatenate((matrix_new_row, new_column), axis=1)\n",
        "print(\"Matrix with new column:\")\n",
        "print(matrix_new_column)\n"
      ],
      "metadata": {
        "colab": {
          "base_uri": "https://localhost:8080/"
        },
        "id": "VWApqU_3r7u3",
        "outputId": "00c99cf5-ca24-40fc-8c55-7c043f1605d4"
      },
      "execution_count": 72,
      "outputs": [
        {
          "output_type": "stream",
          "name": "stdout",
          "text": [
            "Matrix with new row:\n",
            "[[ 1  2  3]\n",
            " [ 4  5  6]\n",
            " [ 7  8  9]\n",
            " [10 11 12]]\n",
            "Matrix with new column:\n",
            "[[ 1  2  3 10]\n",
            " [ 4  5  6 11]\n",
            " [ 7  8  9 12]\n",
            " [10 11 12 13]]\n"
          ]
        }
      ]
    },
    {
      "cell_type": "code",
      "source": [
        "# Matrix Multiplication in NumPy\n",
        "\n",
        "matrix_product = np.matmul(matrix1, matrix2)\n",
        "print(\"Product of matrices:\")\n",
        "print(matrix_product)"
      ],
      "metadata": {
        "colab": {
          "base_uri": "https://localhost:8080/"
        },
        "id": "-MNVdImssB9p",
        "outputId": "11fead76-0424-4591-d2e4-bb08234b8eef"
      },
      "execution_count": 73,
      "outputs": [
        {
          "output_type": "stream",
          "name": "stdout",
          "text": [
            "Product of matrices:\n",
            "[[ 30  24  18]\n",
            " [ 84  69  54]\n",
            " [138 114  90]]\n"
          ]
        }
      ]
    },
    {
      "cell_type": "code",
      "source": [
        "# Get the eigen values of a matrix\n",
        "\n",
        "eigen_values = np.linalg.eigvals(matrix1)\n",
        "print(\"Eigen values:\", eigen_values)"
      ],
      "metadata": {
        "colab": {
          "base_uri": "https://localhost:8080/"
        },
        "id": "TJZWdjwcsNy9",
        "outputId": "c6fb762a-85bc-41c3-e42c-917566f6250f"
      },
      "execution_count": 74,
      "outputs": [
        {
          "output_type": "stream",
          "name": "stdout",
          "text": [
            "Eigen values: [ 1.61168440e+01 -1.11684397e+00 -1.30367773e-15]\n"
          ]
        }
      ]
    },
    {
      "cell_type": "code",
      "source": [
        "# How to Calculate the determinant of a matrix using NumPy?\n",
        "\n",
        "determinant = np.linalg.det(matrix1)\n",
        "print(\"Determinant:\", determinant)"
      ],
      "metadata": {
        "colab": {
          "base_uri": "https://localhost:8080/"
        },
        "id": "nquO5NCdsT7m",
        "outputId": "c9ed41d6-3205-481f-8611-9cca84a6a552"
      },
      "execution_count": 75,
      "outputs": [
        {
          "output_type": "stream",
          "name": "stdout",
          "text": [
            "Determinant: 0.0\n"
          ]
        }
      ]
    },
    {
      "cell_type": "code",
      "source": [
        "# How to inverse a matrix using NumPy\n",
        "\n",
        "m = np.array([[6, 1, 1],\n",
        "              [4, -2, 5],\n",
        "              [2, 8, 7]])\n",
        "  \n",
        "print(np.linalg.inv(m))\n"
      ],
      "metadata": {
        "colab": {
          "base_uri": "https://localhost:8080/"
        },
        "id": "gh51i6jdsmtA",
        "outputId": "f660e81a-7082-403e-9dba-eff87c4692e8"
      },
      "execution_count": 80,
      "outputs": [
        {
          "output_type": "stream",
          "name": "stdout",
          "text": [
            "[[ 0.17647059 -0.00326797 -0.02287582]\n",
            " [ 0.05882353 -0.13071895  0.08496732]\n",
            " [-0.11764706  0.1503268   0.05228758]]\n"
          ]
        }
      ]
    },
    {
      "cell_type": "code",
      "source": [
        "# How to count the frequency of unique values in NumPy array?\n",
        "\n",
        "array = np.array([1, 2, 3, 4, 2, 3, 1, 2, 3, 4, 2, 1, 2, 3])\n",
        "unique_values, frequency = np.unique(array, return_counts=True)\n",
        "\n",
        "print(\"Unique values:\", unique_values)\n",
        "print(\"Frequency:\", frequency)\n"
      ],
      "metadata": {
        "colab": {
          "base_uri": "https://localhost:8080/"
        },
        "id": "6tCN8ZfvtCbj",
        "outputId": "ed6b4e32-2b18-4a3c-e7e7-72c1f0c0b3cb"
      },
      "execution_count": 81,
      "outputs": [
        {
          "output_type": "stream",
          "name": "stdout",
          "text": [
            "Unique values: [1 2 3 4]\n",
            "Frequency: [3 5 4 2]\n"
          ]
        }
      ]
    },
    {
      "cell_type": "code",
      "source": [
        "# Multiply matrices of complex numbers using NumPy in Python\n",
        "\n",
        "x1 = np.array([[1+2j, 3+4j], [5+6j, 7+8j]])\n",
        "x2 = np.array([[9+10j, 11+12j], [13+14j, 15+16j]])\n",
        "\n",
        "result = np.dot(x1, x2)\n",
        "\n",
        "print(\"Matrix multiplication of complex numbers:\")\n",
        "print(result)"
      ],
      "metadata": {
        "colab": {
          "base_uri": "https://localhost:8080/"
        },
        "id": "73x3YbeEtbHT",
        "outputId": "5c31e6c8-2a90-411a-f326-61a1d59a99d8"
      },
      "execution_count": 83,
      "outputs": [
        {
          "output_type": "stream",
          "name": "stdout",
          "text": [
            "Matrix multiplication of complex numbers:\n",
            "[[-28.+122.j -32.+142.j]\n",
            " [-36.+306.j -40.+358.j]]\n"
          ]
        }
      ]
    },
    {
      "cell_type": "code",
      "source": [
        "# Compute the outer product of two given vectors using NumPy in Python\n",
        "\n",
        "vector1 = np.array([1, 2, 3])\n",
        "vector2 = np.array([4, 5, 6])\n",
        "\n",
        "result = np.outer(vector1, vector2)\n",
        "\n",
        "print(\"Outer product of two given vectors:\")\n",
        "print(result)"
      ],
      "metadata": {
        "colab": {
          "base_uri": "https://localhost:8080/"
        },
        "id": "vIZAeAntt_2Y",
        "outputId": "e047d7de-bc9a-41d3-9743-b3e108ab4858"
      },
      "execution_count": 84,
      "outputs": [
        {
          "output_type": "stream",
          "name": "stdout",
          "text": [
            "Outer product of two given vectors:\n",
            "[[ 4  5  6]\n",
            " [ 8 10 12]\n",
            " [12 15 18]]\n"
          ]
        }
      ]
    },
    {
      "cell_type": "code",
      "source": [
        "# Calculate inner, outer, and cross products of matrices and vectors using NumPy:\n",
        "\n",
        "matrix1 = np.array([[1, 2, 3], [4, 5, 6]])\n",
        "matrix2 = np.array([[7, 8, 9], [10, 11, 12]])\n",
        "\n",
        "print(\"Inner product of matrices:\")\n",
        "print(np.inner(matrix1, matrix2))\n",
        "\n",
        "print(\"Outer product of matrices:\")\n",
        "print(np.outer(matrix1, matrix2))\n",
        "\n",
        "vector1 = np.array([1, 2, 3])\n",
        "vector2 = np.array([4, 5, 6])\n",
        "\n",
        "print(\"Cross product of vectors:\")\n",
        "print(np.cross(vector1, vector2))"
      ],
      "metadata": {
        "colab": {
          "base_uri": "https://localhost:8080/"
        },
        "id": "DLsRPTa1v1GA",
        "outputId": "6bda425b-2c4d-47b0-8969-fa7f455f9d17"
      },
      "execution_count": 91,
      "outputs": [
        {
          "output_type": "stream",
          "name": "stdout",
          "text": [
            "Inner product of matrices:\n",
            "[[ 50  68]\n",
            " [122 167]]\n",
            "Outer product of matrices:\n",
            "[[ 7  8  9 10 11 12]\n",
            " [14 16 18 20 22 24]\n",
            " [21 24 27 30 33 36]\n",
            " [28 32 36 40 44 48]\n",
            " [35 40 45 50 55 60]\n",
            " [42 48 54 60 66 72]]\n",
            "Cross product of vectors:\n",
            "[-3  6 -3]\n"
          ]
        }
      ]
    },
    {
      "cell_type": "code",
      "source": [
        "# Compute the covariance matrix of two given NumPy arrays\n",
        "\n",
        "matrix1 = np.array([[1, 2, 3], [4, 5, 6]])\n",
        "matrix2 = np.array([[7, 8, 9], [10, 11, 12]])\n",
        "\n",
        "result = np.cov(matrix1, matrix2)\n",
        "\n",
        "print(\"Covariance matrix of two given NumPy arrays:\")\n",
        "print(result)"
      ],
      "metadata": {
        "colab": {
          "base_uri": "https://localhost:8080/"
        },
        "id": "qoi3x5TxwFt2",
        "outputId": "3bca8e03-b2ba-4bb3-c409-8297156e88e0"
      },
      "execution_count": 90,
      "outputs": [
        {
          "output_type": "stream",
          "name": "stdout",
          "text": [
            "Covariance matrix of two given NumPy arrays:\n",
            "[[1. 1. 1. 1.]\n",
            " [1. 1. 1. 1.]\n",
            " [1. 1. 1. 1.]\n",
            " [1. 1. 1. 1.]]\n"
          ]
        }
      ]
    },
    {
      "cell_type": "code",
      "source": [
        "# Kronecker product of two matrices using NumPy:\n",
        "\n",
        "a = np.array([[1, 2], [3, 4]])\n",
        "b = np.array([[5, 6], [7, 8]])\n",
        "\n",
        "kronecker_product = np.kron(a, b)\n",
        "print(\"Kronecker product of a and b:\\n\", kronecker_product)"
      ],
      "metadata": {
        "colab": {
          "base_uri": "https://localhost:8080/"
        },
        "id": "xrweJomZwHSt",
        "outputId": "62db3963-98d9-46ff-a120-1dd375e70bb5"
      },
      "execution_count": 92,
      "outputs": [
        {
          "output_type": "stream",
          "name": "stdout",
          "text": [
            "Kronecker product of a and b:\n",
            " [[ 5  6 10 12]\n",
            " [ 7  8 14 16]\n",
            " [15 18 20 24]\n",
            " [21 24 28 32]]\n"
          ]
        }
      ]
    },
    {
      "cell_type": "code",
      "source": [
        "# Converting a NumPy array to a list:\n",
        "\n",
        "a = np.array([1, 2, 3, 4, 5])\n",
        "b = a.tolist()\n",
        "print(\"Converted list: \", b)"
      ],
      "metadata": {
        "colab": {
          "base_uri": "https://localhost:8080/"
        },
        "id": "KpfYTVgxwnCB",
        "outputId": "4d8725a9-d9cc-4a5f-f03f-ad5a043f7929"
      },
      "execution_count": 93,
      "outputs": [
        {
          "output_type": "stream",
          "name": "stdout",
          "text": [
            "Converted list:  [1, 2, 3, 4, 5]\n"
          ]
        }
      ]
    },
    {
      "cell_type": "markdown",
      "source": [
        "## Questions on NumPy Indexing"
      ],
      "metadata": {
        "id": "lEM8AZPO10c_"
      }
    },
    {
      "cell_type": "code",
      "source": [
        "# Replace NumPy array elements that doesn’t satisfy the given condition\n",
        "\n",
        "arr = np.array([1, 2, 3, 4, 5, 6, 7, 8, 9, 10])\n",
        "\n",
        "condition = arr < 6\n",
        "\n",
        "arr[~condition] = 0\n",
        "\n",
        "print(arr)\n",
        "\n"
      ],
      "metadata": {
        "colab": {
          "base_uri": "https://localhost:8080/"
        },
        "id": "W-MJfSKU15MI",
        "outputId": "5f725839-1668-4136-bead-abe0970bd09c"
      },
      "execution_count": 96,
      "outputs": [
        {
          "output_type": "stream",
          "name": "stdout",
          "text": [
            "[1 2 3 4 5 0 0 0 0 0]\n"
          ]
        }
      ]
    },
    {
      "cell_type": "code",
      "source": [
        "# Return the indices of elements where the given condition is satisfied:\n",
        "\n",
        "arr = np.array([1, 2, 3, 4, 5, 6, 7, 8, 9, 10])\n",
        "\n",
        "condition = arr > 5\n",
        "\n",
        "indices = np.where(condition)\n",
        "\n",
        "print(indices)"
      ],
      "metadata": {
        "colab": {
          "base_uri": "https://localhost:8080/"
        },
        "id": "GZGJQOQi18lR",
        "outputId": "fc0924df-64bf-42b1-d625-c2845dba58f6"
      },
      "execution_count": 97,
      "outputs": [
        {
          "output_type": "stream",
          "name": "stdout",
          "text": [
            "(array([5, 6, 7, 8, 9]),)\n"
          ]
        }
      ]
    },
    {
      "cell_type": "code",
      "source": [
        "# Replace NaN values with average of columns:\n",
        "\n",
        "arr = np.array([[1, 2, 3], [4, np.nan, 6], [7, 8, np.nan]])\n",
        "\n",
        "mean = np.nanmean(arr, axis=0)\n",
        "\n",
        "indices = np.where(np.isnan(arr))\n",
        "\n",
        "arr[indices] = np.take(mean, indices[1])\n",
        "\n",
        "print(arr)\n"
      ],
      "metadata": {
        "id": "yU2gr0Kv2f3d"
      },
      "execution_count": null,
      "outputs": []
    },
    {
      "cell_type": "code",
      "source": [
        "# Replace negative value with zero in numpy array\n",
        "\n",
        "arr = np.array([1, -2, 3, -4, 5, -6, 7, -8, 9, -10])\n",
        "\n",
        "arr[arr < 0] = 0\n",
        "\n",
        "print(arr)"
      ],
      "metadata": {
        "colab": {
          "base_uri": "https://localhost:8080/"
        },
        "id": "AVX1olku2kFl",
        "outputId": "09957181-70ff-4c54-c1ab-e59a86ef6224"
      },
      "execution_count": 99,
      "outputs": [
        {
          "output_type": "stream",
          "name": "stdout",
          "text": [
            "[1 0 3 0 5 0 7 0 9 0]\n"
          ]
        }
      ]
    },
    {
      "cell_type": "code",
      "source": [
        "# How to get values of an NumPy array at certain index positions?\n",
        "\n",
        "arr = np.array([1, 2, 3, 4, 5, 6, 7, 8, 9, 10])\n",
        "\n",
        "indices = [4, 6, 8]\n",
        "\n",
        "elements = arr[indices]\n",
        "\n",
        "print(elements)"
      ],
      "metadata": {
        "colab": {
          "base_uri": "https://localhost:8080/"
        },
        "id": "zdxkyvec2vaH",
        "outputId": "655dc4bc-90c5-49f8-9e02-09e22d95e2cf"
      },
      "execution_count": 102,
      "outputs": [
        {
          "output_type": "stream",
          "name": "stdout",
          "text": [
            "[5 7 9]\n"
          ]
        }
      ]
    },
    {
      "cell_type": "code",
      "source": [
        "# Find indices of elements equal to zero in a NumPy array:\n",
        "\n",
        "arr = np.array([1, 2, 0, 4, 5, 0, 7, 8, 0])\n",
        "zero_indices = np.where(arr == 0)\n",
        "print(\"Indices of elements equal to zero:\", zero_indices)\n"
      ],
      "metadata": {
        "colab": {
          "base_uri": "https://localhost:8080/"
        },
        "id": "vGcVcyZ13QPA",
        "outputId": "3b2eda1f-a13b-4950-ec60-82c303556949"
      },
      "execution_count": 103,
      "outputs": [
        {
          "output_type": "stream",
          "name": "stdout",
          "text": [
            "Indices of elements equal to zero: (array([2, 5, 8]),)\n"
          ]
        }
      ]
    },
    {
      "cell_type": "code",
      "source": [
        "# Remove columns in Numpy array that contains non-numeric values\n",
        "\n",
        "arr = np.array([[1, 2, \"A\"], [3, 4, 5], [6, 7, \"B\"]])\n",
        "\n",
        "def is_numeric(val):\n",
        "    try:\n",
        "        float(val)\n",
        "        return True\n",
        "    except ValueError:\n",
        "        return False\n",
        "\n",
        "non_numeric_cols = [col for col in range(arr.shape[1]) if not np.array([is_numeric(val) for val in arr[:, col]]).all()]\n",
        "arr = np.delete(arr, non_numeric_cols, axis=1)\n",
        "print(\"Array without non-numeric columns:\")\n",
        "print(arr)\n"
      ],
      "metadata": {
        "colab": {
          "base_uri": "https://localhost:8080/"
        },
        "id": "swAXEnpU2nHv",
        "outputId": "707e89bc-7262-47bc-b422-1179b7e098fd"
      },
      "execution_count": 104,
      "outputs": [
        {
          "output_type": "stream",
          "name": "stdout",
          "text": [
            "Array without non-numeric columns:\n",
            "[['1' '2']\n",
            " ['3' '4']\n",
            " ['6' '7']]\n"
          ]
        }
      ]
    },
    {
      "cell_type": "code",
      "source": [
        "# Access different rows of a multidimensional NumPy array:\n",
        "\n",
        "arr = np.array([[1, 2, 3], [4, 5, 6], [7, 8, 9]])\n",
        "\n",
        "print(\"First row:\", arr[0])\n",
        "print(\"Second row:\", arr[1])\n",
        "print(\"Third row:\", arr[2])\n"
      ],
      "metadata": {
        "colab": {
          "base_uri": "https://localhost:8080/"
        },
        "id": "aH7UcT_A3flL",
        "outputId": "4f413042-1f32-4e34-d866-38bf9904b55b"
      },
      "execution_count": 105,
      "outputs": [
        {
          "output_type": "stream",
          "name": "stdout",
          "text": [
            "First row: [1 2 3]\n",
            "Second row: [4 5 6]\n",
            "Third row: [7 8 9]\n"
          ]
        }
      ]
    },
    {
      "cell_type": "code",
      "source": [
        "# Get row numbers of NumPy array having element larger than X:\n",
        "\n",
        "arr = np.array([[1, 2, 3], [4, 5, 6], [7, 8, 9]])\n",
        "X = 5\n",
        "\n",
        "row_numbers = np.where(arr > X)[0]\n",
        "print(\"Row numbers of elements larger than\", X, \":\", row_numbers)"
      ],
      "metadata": {
        "colab": {
          "base_uri": "https://localhost:8080/"
        },
        "id": "f5tty_3q3oME",
        "outputId": "490030fa-e622-40b7-bc79-d820987c4a82"
      },
      "execution_count": 106,
      "outputs": [
        {
          "output_type": "stream",
          "name": "stdout",
          "text": [
            "Row numbers of elements larger than 5 : [1 2 2 2]\n"
          ]
        }
      ]
    },
    {
      "cell_type": "code",
      "source": [
        "# Fill the diagonals of a NumPy array:\n",
        "\n",
        "arr = np.zeros((3, 3))\n",
        "np.fill_diagonal(arr, 1)\n",
        "print(\"Filled diagonal array:\")\n",
        "print(arr)"
      ],
      "metadata": {
        "colab": {
          "base_uri": "https://localhost:8080/"
        },
        "id": "EvkldKRV3x4V",
        "outputId": "87ee7f0e-c863-468f-eded-17ba4b0cd847"
      },
      "execution_count": 108,
      "outputs": [
        {
          "output_type": "stream",
          "name": "stdout",
          "text": [
            "Filled diagonal array:\n",
            "[[1. 0. 0.]\n",
            " [0. 1. 0.]\n",
            " [0. 0. 1.]]\n"
          ]
        }
      ]
    },
    {
      "cell_type": "code",
      "source": [
        "# Check elements present in the NumPy array\n",
        "\n",
        "arr = np.array([1, 2, 3, 4, 5])\n",
        "\n",
        "print(2 in arr) # True\n",
        "print(6 in arr) # False"
      ],
      "metadata": {
        "colab": {
          "base_uri": "https://localhost:8080/"
        },
        "id": "j4-0tIv839kH",
        "outputId": "15524fa5-c85b-40ce-b60d-cd2daf06b3a3"
      },
      "execution_count": 110,
      "outputs": [
        {
          "output_type": "stream",
          "name": "stdout",
          "text": [
            "True\n",
            "False\n"
          ]
        }
      ]
    },
    {
      "cell_type": "code",
      "source": [
        "# Combined array index by index\n",
        "\n",
        "arr1 = np.array([1, 2, 3, 4, 5])\n",
        "arr2 = np.array([6, 7, 8, 9, 10])\n",
        "result = np.array([arr1[i] + arr2[i] for i in range(len(arr1))])\n",
        "print(result) "
      ],
      "metadata": {
        "colab": {
          "base_uri": "https://localhost:8080/"
        },
        "id": "rS4nBJrE30r8",
        "outputId": "c1a0e392-3fe5-4b55-f38c-5436a21c044c"
      },
      "execution_count": 112,
      "outputs": [
        {
          "output_type": "stream",
          "name": "stdout",
          "text": [
            "[ 7  9 11 13 15]\n"
          ]
        }
      ]
    },
    {
      "cell_type": "markdown",
      "source": [
        "## Questions on NumPy Linear Algebra"
      ],
      "metadata": {
        "id": "zjFIT2Dn4dm7"
      }
    },
    {
      "cell_type": "code",
      "source": [
        "# Find a matrix or vector norm using NumPy\n",
        "\n",
        "# Matrix\n",
        "matrix = np.array([[1, 2], [3, 4]])\n",
        "matrix_norm = np.linalg.norm(matrix)\n",
        "print(\"Matrix Norm:\", matrix_norm)\n",
        "\n",
        "# Vector\n",
        "vector = np.array([1, 2, 3])\n",
        "vector_norm = np.linalg.norm(vector)\n",
        "print(\"Vector Norm:\", vector_norm)"
      ],
      "metadata": {
        "colab": {
          "base_uri": "https://localhost:8080/"
        },
        "id": "dlJ4dnB_4e36",
        "outputId": "abd2db7f-443f-48ed-c0ba-dd3623aace8c"
      },
      "execution_count": 113,
      "outputs": [
        {
          "output_type": "stream",
          "name": "stdout",
          "text": [
            "Matrix Norm: 5.477225575051661\n",
            "Vector Norm: 3.7416573867739413\n"
          ]
        }
      ]
    },
    {
      "cell_type": "code",
      "source": [
        "# Calculate the QR decomposition of a given matrix using NumPy:\n",
        "\n",
        "matrix = np.array([[1, 2], [3, 4]])\n",
        "q, r = np.linalg.qr(matrix)\n",
        "print(\"Q:\")\n",
        "print(q)\n",
        "print(\"R:\")\n",
        "print(r)\n"
      ],
      "metadata": {
        "colab": {
          "base_uri": "https://localhost:8080/"
        },
        "id": "_-ef-ij_5G2X",
        "outputId": "c4a4cfed-47c5-48e4-abe6-c91512b3dc2f"
      },
      "execution_count": 114,
      "outputs": [
        {
          "output_type": "stream",
          "name": "stdout",
          "text": [
            "Q:\n",
            "[[-0.31622777 -0.9486833 ]\n",
            " [-0.9486833   0.31622777]]\n",
            "R:\n",
            "[[-3.16227766 -4.42718872]\n",
            " [ 0.         -0.63245553]]\n"
          ]
        }
      ]
    },
    {
      "cell_type": "code",
      "source": [
        "# Compute the condition number of a given matrix using NumPy\n",
        "\n",
        "matrix = np.array([[1, 2], [3, 4]])\n",
        "condition_number = np.linalg.cond(matrix)\n",
        "print(\"Condition Number:\", condition_number)"
      ],
      "metadata": {
        "colab": {
          "base_uri": "https://localhost:8080/"
        },
        "id": "T9evd-wY5Rkd",
        "outputId": "1fa51d78-2429-4b3e-809f-74797dbb7ed5"
      },
      "execution_count": 115,
      "outputs": [
        {
          "output_type": "stream",
          "name": "stdout",
          "text": [
            "Condition Number: 14.933034373659268\n"
          ]
        }
      ]
    },
    {
      "cell_type": "code",
      "source": [
        "# Compute the eigenvalues and right eigenvectors of a given square array using NumPy:\n",
        "\n",
        "matrix = np.array([[1, 2], [3, 4]])\n",
        "eigenvalues, eigenvectors = np.linalg.eig(matrix)\n",
        "print(\"Eigenvalues:\", eigenvalues)\n",
        "print(\"Eigenvectors:\")\n",
        "print(eigenvectors)\n"
      ],
      "metadata": {
        "colab": {
          "base_uri": "https://localhost:8080/"
        },
        "id": "_ePxcrJ_5XZs",
        "outputId": "ea02bf08-5fc8-470c-b720-c578c0833f44"
      },
      "execution_count": 116,
      "outputs": [
        {
          "output_type": "stream",
          "name": "stdout",
          "text": [
            "Eigenvalues: [-0.37228132  5.37228132]\n",
            "Eigenvectors:\n",
            "[[-0.82456484 -0.41597356]\n",
            " [ 0.56576746 -0.90937671]]\n"
          ]
        }
      ]
    },
    {
      "cell_type": "code",
      "source": [
        "# Calculate the Euclidean distance using NumPy:\n",
        "\n",
        "point1 = np.array([1, 2, 3])\n",
        "point2 = np.array([4, 5, 6])\n",
        "distance = np.linalg.norm(point1 - point2)\n",
        "print(\"Euclidean Distance:\", distance)"
      ],
      "metadata": {
        "colab": {
          "base_uri": "https://localhost:8080/"
        },
        "id": "kNNFRbX95fOG",
        "outputId": "ac972017-1e61-4474-b13e-1a9d5d0be8af"
      },
      "execution_count": 117,
      "outputs": [
        {
          "output_type": "stream",
          "name": "stdout",
          "text": [
            "Euclidean Distance: 5.196152422706632\n"
          ]
        }
      ]
    },
    {
      "cell_type": "markdown",
      "source": [
        "## Questions on NumPy Random"
      ],
      "metadata": {
        "id": "aZtCbzxU5xjU"
      }
    },
    {
      "cell_type": "code",
      "source": [
        "# Create a Numpy array with random values\n",
        "\n",
        "# create a 2x3 array with random values\n",
        "random_array = np.random.rand(2, 3)\n",
        "print(random_array)"
      ],
      "metadata": {
        "colab": {
          "base_uri": "https://localhost:8080/"
        },
        "id": "lkJjKav650ag",
        "outputId": "b4523581-bb41-4e05-e7a6-1fc0c5a3c76e"
      },
      "execution_count": 118,
      "outputs": [
        {
          "output_type": "stream",
          "name": "stdout",
          "text": [
            "[[0.0267194  0.71893072 0.57321822]\n",
            " [0.69469612 0.35232419 0.60629137]]\n"
          ]
        }
      ]
    },
    {
      "cell_type": "code",
      "source": [
        "# How to choose elements from the list with different probability using NumPy?\n",
        "\n",
        "elements = [1, 2, 3, 4, 5]\n",
        "probabilities = [0.1, 0.2, 0.3, 0.25, 0.15]\n",
        "\n",
        "# choose an element randomly from the list with different probabilities\n",
        "choice = np.random.choice(elements, p=probabilities)\n",
        "print(choice)"
      ],
      "metadata": {
        "colab": {
          "base_uri": "https://localhost:8080/"
        },
        "id": "gOtbtPH652Ng",
        "outputId": "2b0b3a11-603e-4d86-a56b-3ae378d8bbd3"
      },
      "execution_count": 122,
      "outputs": [
        {
          "output_type": "stream",
          "name": "stdout",
          "text": [
            "4\n"
          ]
        }
      ]
    },
    {
      "cell_type": "code",
      "source": [
        "# How to get weighted random choice in Python?\n",
        "\n",
        "elements = [1, 2, 3, 4, 5]\n",
        "weights = [0.1, 0.2, 0.3, 0.25, 0.15]\n",
        "\n",
        "# choose an element randomly from the list with different weights\n",
        "choice = np.random.choice(elements, p=weights)\n",
        "print(choice)"
      ],
      "metadata": {
        "colab": {
          "base_uri": "https://localhost:8080/"
        },
        "id": "5PLY59uB54GS",
        "outputId": "5ecb8770-d752-4aef-eb58-63149bf7194d"
      },
      "execution_count": 123,
      "outputs": [
        {
          "output_type": "stream",
          "name": "stdout",
          "text": [
            "3\n"
          ]
        }
      ]
    },
    {
      "cell_type": "code",
      "source": [
        "# Generate Random Numbers From The Uniform Distribution using NumPy\n",
        "\n",
        "# generate 10 random numbers from the uniform distribution between 0 and 1\n",
        "random_numbers = np.random.uniform(0, 1, 10)\n",
        "print(random_numbers)"
      ],
      "metadata": {
        "colab": {
          "base_uri": "https://localhost:8080/"
        },
        "id": "aYijTCcN5591",
        "outputId": "8e8ddbc3-0c9c-40ec-e194-44345939a5d3"
      },
      "execution_count": 124,
      "outputs": [
        {
          "output_type": "stream",
          "name": "stdout",
          "text": [
            "[0.41262088 0.91660635 0.88960358 0.57027539 0.53467091 0.99820723\n",
            " 0.22649517 0.30359923 0.51065299 0.08275979]\n"
          ]
        }
      ]
    },
    {
      "cell_type": "code",
      "source": [
        "# Get Random Elements form geometric distribution\n",
        "\n",
        "# get 5 random elements from the geometric distribution with probability of success 0.5\n",
        "random_elements = np.random.geometric(p=0.5, size=5)\n",
        "print(random_elements)"
      ],
      "metadata": {
        "colab": {
          "base_uri": "https://localhost:8080/"
        },
        "id": "styV7m3p58No",
        "outputId": "f683082b-6900-4f2a-f24e-89400785c5fa"
      },
      "execution_count": 125,
      "outputs": [
        {
          "output_type": "stream",
          "name": "stdout",
          "text": [
            "[1 3 4 1 1]\n"
          ]
        }
      ]
    },
    {
      "cell_type": "code",
      "source": [
        "# Get Random elements from Laplace distribution\n",
        "\n",
        "# Generate 10 random numbers from Laplace distribution with location 0 and scale 1\n",
        "random_numbers = np.random.laplace(0, 1, 10)\n",
        "\n",
        "print(random_numbers)"
      ],
      "metadata": {
        "colab": {
          "base_uri": "https://localhost:8080/"
        },
        "id": "DO6lcHyl6r_2",
        "outputId": "3b49abc9-96e9-450d-8012-30b0e80e594f"
      },
      "execution_count": 126,
      "outputs": [
        {
          "output_type": "stream",
          "name": "stdout",
          "text": [
            "[-0.51669177 -1.20489515 -1.14533027  0.69587729  0.57494885  0.34132946\n",
            " -0.46072276 -0.47964583 -0.23208257  1.24051817]\n"
          ]
        }
      ]
    },
    {
      "cell_type": "code",
      "source": [
        "# Return a Matrix of random values from a uniform distribution\n",
        "\n",
        "# Generate a 2x3 matrix of random numbers from a uniform distribution between 0 and 1\n",
        "random_matrix = np.random.uniform(0, 1, (2, 3))\n",
        "\n",
        "print(random_matrix)"
      ],
      "metadata": {
        "colab": {
          "base_uri": "https://localhost:8080/"
        },
        "id": "nu9vbOXW6r4M",
        "outputId": "ac9f7bea-e875-4d6c-eb13-ebfdd952a3b2"
      },
      "execution_count": 127,
      "outputs": [
        {
          "output_type": "stream",
          "name": "stdout",
          "text": [
            "[[0.10680148 0.13368131 0.68137203]\n",
            " [0.19224071 0.96897484 0.7840272 ]]\n"
          ]
        }
      ]
    },
    {
      "cell_type": "code",
      "source": [
        "# Return a Matrix of random values from a Gaussian distribution\n",
        "\n",
        "# Generate a 2x3 matrix of random numbers from a Gaussian distribution with mean 0 and standard deviation 1\n",
        "random_matrix = np.random.normal(0, 1, (2, 3))\n",
        "\n",
        "print(random_matrix)"
      ],
      "metadata": {
        "colab": {
          "base_uri": "https://localhost:8080/"
        },
        "id": "wuDTeINZ6rsU",
        "outputId": "8ac3c82a-c77f-4d3c-e79b-e8b02074b27a"
      },
      "execution_count": 128,
      "outputs": [
        {
          "output_type": "stream",
          "name": "stdout",
          "text": [
            "[[-0.964333   -0.55097862 -0.45718203]\n",
            " [-0.03112372 -0.68640992 -0.88927369]]\n"
          ]
        }
      ]
    },
    {
      "cell_type": "markdown",
      "source": [
        "## Questions on NumPy Sorting and Searching"
      ],
      "metadata": {
        "id": "mq4ZLIBJ7Sfv"
      }
    },
    {
      "cell_type": "code",
      "source": [
        "# How to get the indices of the sorted array using NumPy in Python?\n",
        "\n",
        "arr = np.array([3, 1, 4, 2, 5])\n",
        "sorted_indices = np.argsort(arr)\n",
        "print(sorted_indices) "
      ],
      "metadata": {
        "colab": {
          "base_uri": "https://localhost:8080/"
        },
        "id": "OKjXv98p7bKJ",
        "outputId": "efe5bf16-e87b-4064-dd8d-968b9d8aea9b"
      },
      "execution_count": 131,
      "outputs": [
        {
          "output_type": "stream",
          "name": "stdout",
          "text": [
            "[1 3 0 2 4]\n"
          ]
        }
      ]
    },
    {
      "cell_type": "code",
      "source": [
        "# Finding the k smallest values of a NumPy array\n",
        "\n",
        "arr = np.array([3, 1, 4, 2, 5])\n",
        "k = 3\n",
        "smallest_indices = np.argsort(arr)[:k]\n",
        "print(smallest_indices) "
      ],
      "metadata": {
        "colab": {
          "base_uri": "https://localhost:8080/"
        },
        "id": "Ss2vjF4F7g7w",
        "outputId": "a7856c24-b48a-41ae-dde8-7c0f6371edfd"
      },
      "execution_count": 132,
      "outputs": [
        {
          "output_type": "stream",
          "name": "stdout",
          "text": [
            "[1 3 0]\n"
          ]
        }
      ]
    },
    {
      "cell_type": "code",
      "source": [
        "# How to get the n-largest values of an array using NumPy?\n",
        "\n",
        "arr = np.array([3, 1, 4, 2, 5])\n",
        "n = 3\n",
        "largest_indices = np.argsort(arr)[-n:]\n",
        "print(largest_indices) "
      ],
      "metadata": {
        "colab": {
          "base_uri": "https://localhost:8080/"
        },
        "id": "gOeypnCl7hPI",
        "outputId": "0a43b98a-2a05-413c-cb89-e7490de30f67"
      },
      "execution_count": 133,
      "outputs": [
        {
          "output_type": "stream",
          "name": "stdout",
          "text": [
            "[0 2 4]\n"
          ]
        }
      ]
    },
    {
      "cell_type": "code",
      "source": [
        "# Sort the values in a matrix\n",
        "\n",
        "mat = np.array([[3, 2, 1], [5, 4, 3], [2, 5, 4]])\n",
        "sorted_mat = np.sort(mat, axis=1)\n",
        "print(sorted_mat)"
      ],
      "metadata": {
        "colab": {
          "base_uri": "https://localhost:8080/"
        },
        "id": "5dtnPGpm7h4j",
        "outputId": "85e09d95-6ec5-4e1b-e225-44efc16b68d7"
      },
      "execution_count": 134,
      "outputs": [
        {
          "output_type": "stream",
          "name": "stdout",
          "text": [
            "[[1 2 3]\n",
            " [3 4 5]\n",
            " [2 4 5]]\n"
          ]
        }
      ]
    },
    {
      "cell_type": "code",
      "source": [
        "# Filter out integers from float numpy array\n",
        "\n",
        "arr = np.array([1.0, 2.5, 3.2, 4.7, 5.1])\n",
        "filtered_arr = arr[~np.isclose(arr % 1, 0)]\n",
        "print(filtered_arr)"
      ],
      "metadata": {
        "colab": {
          "base_uri": "https://localhost:8080/"
        },
        "id": "uuLj_Foa7hwn",
        "outputId": "3ffd736d-e3cc-46b4-e13b-eed2203414d4"
      },
      "execution_count": 135,
      "outputs": [
        {
          "output_type": "stream",
          "name": "stdout",
          "text": [
            "[2.5 3.2 4.7 5.1]\n"
          ]
        }
      ]
    },
    {
      "cell_type": "code",
      "source": [
        "# Find the indices into a sorted array\n",
        "\n",
        "arr = np.array([3, 1, 4, 1, 5, 9, 2, 6, 5, 3, 5])\n",
        "sorted_indices = np.argsort(arr)\n",
        "print(\"Sorted indices:\", sorted_indices)"
      ],
      "metadata": {
        "colab": {
          "base_uri": "https://localhost:8080/"
        },
        "id": "IcWrK2iU7hoF",
        "outputId": "60bc2f64-252f-4efd-d932-9b227569c249"
      },
      "execution_count": 136,
      "outputs": [
        {
          "output_type": "stream",
          "name": "stdout",
          "text": [
            "Sorted indices: [ 1  3  6  0  9  2  4  8 10  7  5]\n"
          ]
        }
      ]
    },
    {
      "cell_type": "markdown",
      "source": [
        "## Questions on NumPy Mathematics"
      ],
      "metadata": {
        "id": "0gp5qwtl7sou"
      }
    },
    {
      "cell_type": "code",
      "source": [
        "# How to get element-wise true division of an array using Numpy?\n",
        "\n",
        "arr1 = np.array([1, 2, 3, 4])\n",
        "arr2 = np.array([10, 20, 30, 40])\n",
        "\n",
        "result = np.true_divide(arr1, arr2)\n",
        "\n",
        "print(\"Element-wise true division of arrays:\")\n",
        "print(result)"
      ],
      "metadata": {
        "colab": {
          "base_uri": "https://localhost:8080/"
        },
        "id": "bwgWjaHA-l7y",
        "outputId": "c78903f8-a3d8-4302-ae96-ed7eb99a8bbf"
      },
      "execution_count": 137,
      "outputs": [
        {
          "output_type": "stream",
          "name": "stdout",
          "text": [
            "Element-wise true division of arrays:\n",
            "[0.1 0.1 0.1 0.1]\n"
          ]
        }
      ]
    },
    {
      "cell_type": "code",
      "source": [
        "# How to calculate the element-wise absolute value of NumPy array?\n",
        "\n",
        "\n",
        "arr = np.array([-1, -2, 3, -4])\n",
        "result = np.abs(arr)\n",
        "\n",
        "print(\"Element-wise absolute value of the array:\")\n",
        "print(result)"
      ],
      "metadata": {
        "colab": {
          "base_uri": "https://localhost:8080/"
        },
        "id": "y88xpQld-l0f",
        "outputId": "fbc84ee6-04fa-41e8-be7a-9ef0bcd7cbb2"
      },
      "execution_count": 138,
      "outputs": [
        {
          "output_type": "stream",
          "name": "stdout",
          "text": [
            "Element-wise absolute value of the array:\n",
            "[1 2 3 4]\n"
          ]
        }
      ]
    },
    {
      "cell_type": "code",
      "source": [
        "# Compute the negative of the NumPy array\n",
        "\n",
        "arr = np.array([1, 2, 3, 4])\n",
        "result = np.negative(arr)\n",
        "\n",
        "print(\"Negative of the array:\")\n",
        "print(result)"
      ],
      "metadata": {
        "colab": {
          "base_uri": "https://localhost:8080/"
        },
        "id": "u2y2mR37-lt_",
        "outputId": "718e2a7d-519c-4cd7-f4d7-643f598ddf92"
      },
      "execution_count": 139,
      "outputs": [
        {
          "output_type": "stream",
          "name": "stdout",
          "text": [
            "Negative of the array:\n",
            "[-1 -2 -3 -4]\n"
          ]
        }
      ]
    },
    {
      "cell_type": "code",
      "source": [
        "# Multiply 2d numpy array corresponding to 1d array\n",
        "\n",
        "arr1 = np.array([[1, 2, 3], [4, 5, 6]])\n",
        "arr2 = np.array([10, 20, 30])\n",
        "result = np.multiply(arr1, arr2)\n",
        "\n",
        "print(\"Multiplication of 2d numpy array and 1d array:\")\n",
        "print(result)"
      ],
      "metadata": {
        "colab": {
          "base_uri": "https://localhost:8080/"
        },
        "id": "u10AoKiG-lmU",
        "outputId": "419cee60-4bc9-4c4f-c2db-b991d80d616f"
      },
      "execution_count": 140,
      "outputs": [
        {
          "output_type": "stream",
          "name": "stdout",
          "text": [
            "Multiplication of 2d numpy array and 1d array:\n",
            "[[ 10  40  90]\n",
            " [ 40 100 180]]\n"
          ]
        }
      ]
    },
    {
      "cell_type": "code",
      "source": [
        "# Computes the inner product of two arrays\n",
        "\n",
        "arr1 = np.array([1, 2, 3])\n",
        "arr2 = np.array([10, 20, 30])\n",
        "result = np.inner(arr1, arr2)\n",
        "\n",
        "print(\"Inner product of two arrays:\")\n",
        "print(result)"
      ],
      "metadata": {
        "colab": {
          "base_uri": "https://localhost:8080/"
        },
        "id": "FWw4fXHw-ldi",
        "outputId": "fea3561f-5606-4258-8e06-a5120be577c1"
      },
      "execution_count": 141,
      "outputs": [
        {
          "output_type": "stream",
          "name": "stdout",
          "text": [
            "Inner product of two arrays:\n",
            "140\n"
          ]
        }
      ]
    },
    {
      "cell_type": "code",
      "source": [
        "# Compute the nth percentile of the NumPy array\n",
        "\n",
        "arr = np.array([1, 2, 3, 4, 5, 6, 7, 8, 9, 10])\n",
        "percentile = 50\n",
        "result = np.percentile(arr, percentile)\n",
        "print(\"The {}th percentile of the array is: {}\".format(percentile, result))"
      ],
      "metadata": {
        "colab": {
          "base_uri": "https://localhost:8080/"
        },
        "id": "0lbEM4km-wO3",
        "outputId": "cb0f9ba9-8f0e-4310-8f6a-31a30f32da2f"
      },
      "execution_count": 142,
      "outputs": [
        {
          "output_type": "stream",
          "name": "stdout",
          "text": [
            "The 50th percentile of the array is: 5.5\n"
          ]
        }
      ]
    },
    {
      "cell_type": "code",
      "source": [
        "# Calculate the n-th order discrete difference along the given axis\n",
        "\n",
        "arr = np.array([1, 2, 3, 4, 5, 6, 7, 8, 9, 10])\n",
        "order = 1\n",
        "result = np.diff(arr, n=order)\n",
        "print(\"The first-order difference of the array is: {}\".format(result))"
      ],
      "metadata": {
        "colab": {
          "base_uri": "https://localhost:8080/"
        },
        "id": "4cNjied7-wI4",
        "outputId": "386b6eaf-1fc1-4bf2-89ca-917f55db3a8f"
      },
      "execution_count": 143,
      "outputs": [
        {
          "output_type": "stream",
          "name": "stdout",
          "text": [
            "The first-order difference of the array is: [1 1 1 1 1 1 1 1 1]\n"
          ]
        }
      ]
    },
    {
      "cell_type": "code",
      "source": [
        "# Calculate the sum of all columns in a 2D NumPy array\n",
        "\n",
        "arr = np.array([[1, 2, 3], [4, 5, 6], [7, 8, 9]])\n",
        "result = np.sum(arr, axis=0)\n",
        "print(\"The sum of all columns of the array is: {}\".format(result))"
      ],
      "metadata": {
        "colab": {
          "base_uri": "https://localhost:8080/"
        },
        "id": "juwwZ0q2-wCR",
        "outputId": "fd497dc4-d606-4afc-a216-f47f1414d89f"
      },
      "execution_count": 144,
      "outputs": [
        {
          "output_type": "stream",
          "name": "stdout",
          "text": [
            "The sum of all columns of the array is: [12 15 18]\n"
          ]
        }
      ]
    },
    {
      "cell_type": "code",
      "source": [
        "# Calculate average values of two given NumPy arrays\n",
        "\n",
        "arr1 = np.array([1, 2, 3, 4, 5])\n",
        "arr2 = np.array([6, 7, 8, 9, 10])\n",
        "result = np.divide(np.add(arr1, arr2), 2)\n",
        "print(\"The average values of the two arrays is: {}\".format(result))\n"
      ],
      "metadata": {
        "colab": {
          "base_uri": "https://localhost:8080/"
        },
        "id": "es_cztQu-v7k",
        "outputId": "b8124333-2d83-4319-de6a-b598f109ec11"
      },
      "execution_count": 145,
      "outputs": [
        {
          "output_type": "stream",
          "name": "stdout",
          "text": [
            "The average values of the two arrays is: [3.5 4.5 5.5 6.5 7.5]\n"
          ]
        }
      ]
    },
    {
      "cell_type": "code",
      "source": [
        "# How to compute numerical negative value for all elements in a given NumPy array?\n",
        "\n",
        "array = np.array([1, 2, 3, 4, 5])\n",
        "neg_array = -array\n",
        "print(neg_array)"
      ],
      "metadata": {
        "colab": {
          "base_uri": "https://localhost:8080/"
        },
        "id": "EeZZN-iq-v0j",
        "outputId": "43c56586-e5c7-4dc2-8ca4-cf8a5e8eb808"
      },
      "execution_count": 146,
      "outputs": [
        {
          "output_type": "stream",
          "name": "stdout",
          "text": [
            "[-1 -2 -3 -4 -5]\n"
          ]
        }
      ]
    },
    {
      "cell_type": "code",
      "source": [
        "# How to get the floor, ceiling and truncated values of the elements of a numpy array?\n",
        "\n",
        "array = np.array([1.1, 1.9, 2.5, 3.7, 4.0])\n",
        "\n",
        "floor_array = np.floor(array)\n",
        "ceiling_array = np.ceil(array)\n",
        "truncated_array = np.trunc(array)\n",
        "\n",
        "print(\"Floor values:\", floor_array)\n",
        "print(\"Ceiling values:\", ceiling_array)\n",
        "print(\"Truncated values:\", truncated_array)"
      ],
      "metadata": {
        "colab": {
          "base_uri": "https://localhost:8080/"
        },
        "id": "Why0vq5y-vtK",
        "outputId": "3e367b91-0053-4b56-d2ba-d2ffb57a89c4"
      },
      "execution_count": 147,
      "outputs": [
        {
          "output_type": "stream",
          "name": "stdout",
          "text": [
            "Floor values: [1. 1. 2. 3. 4.]\n",
            "Ceiling values: [2. 2. 3. 4. 4.]\n",
            "Truncated values: [1. 1. 2. 3. 4.]\n"
          ]
        }
      ]
    },
    {
      "cell_type": "code",
      "source": [
        "# How to round elements of the NumPy array to the nearest integer?\n",
        "\n",
        "array = np.array([1.1, 1.9, 2.5, 3.7, 4.0])\n",
        "rounded_array = np.round(array)\n",
        "print(rounded_array)"
      ],
      "metadata": {
        "colab": {
          "base_uri": "https://localhost:8080/"
        },
        "id": "mV7az0ou-vlQ",
        "outputId": "932b7683-b2f7-4611-b593-ccaebf30a04b"
      },
      "execution_count": 148,
      "outputs": [
        {
          "output_type": "stream",
          "name": "stdout",
          "text": [
            "[1. 2. 2. 4. 4.]\n"
          ]
        }
      ]
    },
    {
      "cell_type": "code",
      "source": [
        "# Find the round off the values of the given matrix\n",
        "\n",
        "matrix = np.array([[1.1, 1.9], [2.5, 3.7], [4.0, 5.6]])\n",
        "rounded_matrix = np.round(matrix)\n",
        "print(rounded_matrix)"
      ],
      "metadata": {
        "colab": {
          "base_uri": "https://localhost:8080/"
        },
        "id": "5gdc_yn5-ve8",
        "outputId": "0418e0f6-7a30-4eec-cfee-9108a4372199"
      },
      "execution_count": 149,
      "outputs": [
        {
          "output_type": "stream",
          "name": "stdout",
          "text": [
            "[[1. 2.]\n",
            " [2. 4.]\n",
            " [4. 6.]]\n"
          ]
        }
      ]
    },
    {
      "cell_type": "code",
      "source": [
        "# Determine the positive square-root of an array\n",
        "\n",
        "array = np.array([1, 4, 9, 16, 25])\n",
        "square_root_array = np.sqrt(array)\n",
        "print(square_root_array)"
      ],
      "metadata": {
        "colab": {
          "base_uri": "https://localhost:8080/"
        },
        "id": "2gT4hq30-vUy",
        "outputId": "da1b1c26-53c9-4acd-df77-d893077c7516"
      },
      "execution_count": 150,
      "outputs": [
        {
          "output_type": "stream",
          "name": "stdout",
          "text": [
            "[1. 2. 3. 4. 5.]\n"
          ]
        }
      ]
    },
    {
      "cell_type": "code",
      "source": [
        "# Evaluate Einstein’s summation convention of two multidimensional NumPy arrays\n",
        "\n",
        "a = np.array([[1, 2], [3, 4]])\n",
        "b = np.array([[5, 6], [7, 8]])\n",
        "\n",
        "result = np.einsum('ij, jk -> ik', a, b)\n",
        "\n",
        "print(result)"
      ],
      "metadata": {
        "colab": {
          "base_uri": "https://localhost:8080/"
        },
        "id": "JjKLjKSb_DIh",
        "outputId": "147b8ba0-8ad3-42e9-fab9-d39d58241538"
      },
      "execution_count": 151,
      "outputs": [
        {
          "output_type": "stream",
          "name": "stdout",
          "text": [
            "[[19 22]\n",
            " [43 50]]\n"
          ]
        }
      ]
    },
    {
      "cell_type": "markdown",
      "source": [
        "## Questions on NumPy Statistics"
      ],
      "metadata": {
        "id": "Ns4kcyZfBdyG"
      }
    },
    {
      "cell_type": "code",
      "source": [
        "# Compute the median of the flattened NumPy array\n",
        "\n",
        "arr = np.array([[1, 2, 3], [4, 5, 6]])\n",
        "median = np.median(arr)"
      ],
      "metadata": {
        "id": "WDpBlUbCBuH_"
      },
      "execution_count": 164,
      "outputs": []
    },
    {
      "cell_type": "code",
      "source": [
        "# Find Mean of a List of Numpy Array\n",
        "\n",
        "arr_list = [np.array([1, 2, 3]), np.array([4, 5, 6])]\n",
        "mean = np.mean(arr_list)"
      ],
      "metadata": {
        "id": "_iAD6M9-BwiS"
      },
      "execution_count": 163,
      "outputs": []
    },
    {
      "cell_type": "code",
      "source": [
        "# Calculate the mean of array ignoring the NaN value\n",
        "\n",
        "arr = np.array([1, 2, np.nan, 4, 5])\n",
        "mean = np.nanmean(arr)"
      ],
      "metadata": {
        "id": "KukNzJFFByWn"
      },
      "execution_count": 162,
      "outputs": []
    },
    {
      "cell_type": "code",
      "source": [
        "# Get the mean value from given matrix\n",
        "\n",
        "matrix = np.array([[1, 2, 3], [4, 5, 6]])\n",
        "mean = np.mean(matrix, axis=1) # returns an array of mean values along rows"
      ],
      "metadata": {
        "id": "FOfQx95GByQw"
      },
      "execution_count": 161,
      "outputs": []
    },
    {
      "cell_type": "code",
      "source": [
        "# Compute the variance of the NumPy array\n",
        "\n",
        "arr = np.array([1, 2, 3, 4, 5])\n",
        "variance = np.var(arr)"
      ],
      "metadata": {
        "id": "ZQemM7uvByKC"
      },
      "execution_count": 160,
      "outputs": []
    },
    {
      "cell_type": "code",
      "source": [
        "# Compute the standard deviation of the NumPy array\n",
        "\n",
        "arr = np.array([1, 2, 3, 4, 5])\n",
        "result = np.std(arr)\n",
        "print(result)"
      ],
      "metadata": {
        "colab": {
          "base_uri": "https://localhost:8080/"
        },
        "id": "MKA7fVcWByDg",
        "outputId": "fffda6b3-ae0c-40a5-ae7e-a61d6296d59b"
      },
      "execution_count": 156,
      "outputs": [
        {
          "output_type": "stream",
          "name": "stdout",
          "text": [
            "1.4142135623730951\n"
          ]
        }
      ]
    },
    {
      "cell_type": "code",
      "source": [
        "# Compute pearson product-moment correlation coefficients of two given NumPy arrays\n",
        "\n",
        "arr1 = np.array([1, 2, 3, 4, 5])\n",
        "arr2 = np.array([2, 3, 4, 5, 6])\n",
        "result = np.corrcoef(arr1, arr2)\n",
        "print(result)"
      ],
      "metadata": {
        "colab": {
          "base_uri": "https://localhost:8080/"
        },
        "id": "NL2Ixn9EBx8v",
        "outputId": "5f4e1bb7-b78e-4545-ced1-275c145729c2"
      },
      "execution_count": 155,
      "outputs": [
        {
          "output_type": "stream",
          "name": "stdout",
          "text": [
            "[[1. 1.]\n",
            " [1. 1.]]\n"
          ]
        }
      ]
    },
    {
      "cell_type": "code",
      "source": [
        "# Calculate the mean across dimension in a 2D NumPy array\n",
        "\n",
        "arr = np.array([[1, 2, 3], [4, 5, 6], [7, 8, 9]])\n",
        "result = np.mean(arr, axis=0)\n",
        "print(result)"
      ],
      "metadata": {
        "colab": {
          "base_uri": "https://localhost:8080/"
        },
        "id": "5xuF8NX8Bx2K",
        "outputId": "a96994a0-047f-4d98-ac66-bd5d007e9410"
      },
      "execution_count": 154,
      "outputs": [
        {
          "output_type": "stream",
          "name": "stdout",
          "text": [
            "[4. 5. 6.]\n"
          ]
        }
      ]
    },
    {
      "cell_type": "code",
      "source": [
        "# Calculate the average, variance and standard deviation in Python using NumPy\n",
        "\n",
        "arr = np.array([1, 2, 3, 4, 5])\n",
        "mean = np.mean(arr)\n",
        "variance = np.var(arr)\n",
        "standard_deviation = np.std(arr)\n",
        "print(\"Mean: \", mean)\n",
        "print(\"Variance: \", variance)\n",
        "print(\"Standard Deviation: \", standard_deviation)"
      ],
      "metadata": {
        "colab": {
          "base_uri": "https://localhost:8080/"
        },
        "id": "7yw2Yl1cBxuw",
        "outputId": "5fafc2d4-7eb7-4af8-bacc-c8a129ccd02c"
      },
      "execution_count": 153,
      "outputs": [
        {
          "output_type": "stream",
          "name": "stdout",
          "text": [
            "Mean:  3.0\n",
            "Variance:  2.0\n",
            "Standard Deviation:  1.4142135623730951\n"
          ]
        }
      ]
    },
    {
      "cell_type": "code",
      "source": [
        "# Describe a NumPy Array in Python\n",
        "\n",
        "a = np.array([1, 2, 3, 4, 5])\n",
        "\n",
        "# Printing the type of the array\n",
        "print(\"Type of the array:\", type(a))\n",
        "\n",
        "# Printing the shape of the array\n",
        "print(\"Shape of the array:\", a.shape)\n",
        "\n",
        "# Printing the number of dimensions of the array\n",
        "print(\"Number of dimensions:\", a.ndim)\n",
        "\n",
        "# Printing the data type of the array\n",
        "print(\"Data type of the elements:\", a.dtype)\n",
        "\n",
        "# Printing the size of each element of the array\n",
        "print(\"Size of each element:\", a.itemsize)\n",
        "\n",
        "# Printing the total number of elements in the array\n",
        "print(\"Total number of elements:\", a.size)"
      ],
      "metadata": {
        "colab": {
          "base_uri": "https://localhost:8080/"
        },
        "id": "MlFPHjTmBxlZ",
        "outputId": "57a2fb9b-4dcb-4145-e9d5-c8e67bfa2e28"
      },
      "execution_count": 152,
      "outputs": [
        {
          "output_type": "stream",
          "name": "stdout",
          "text": [
            "Type of the array: <class 'numpy.ndarray'>\n",
            "Shape of the array: (5,)\n",
            "Number of dimensions: 1\n",
            "Data type of the elements: int64\n",
            "Size of each element: 8\n",
            "Total number of elements: 5\n"
          ]
        }
      ]
    },
    {
      "cell_type": "markdown",
      "source": [
        "## Questions on Polynomial"
      ],
      "metadata": {
        "id": "Nqgj0U_IGHAL"
      }
    },
    {
      "cell_type": "code",
      "source": [
        "# Define a polynomial function\n",
        "\n",
        "def polynomial(coeffs, x):\n",
        "    return np.polyval(coeffs, x)\n",
        "\n",
        "coeffs = [1, 2, 3]\n",
        "x = 2\n",
        "result = polynomial(coeffs, x)\n",
        "print(result)"
      ],
      "metadata": {
        "colab": {
          "base_uri": "https://localhost:8080/"
        },
        "id": "FZKtSvdXGOs4",
        "outputId": "bc3cb436-e573-4303-8e07-74b47fc1af19"
      },
      "execution_count": 172,
      "outputs": [
        {
          "output_type": "stream",
          "name": "stdout",
          "text": [
            "11\n"
          ]
        }
      ]
    },
    {
      "cell_type": "code",
      "source": [
        "# How to add one polynomial to another using NumPy in Python?\n",
        "\n",
        "def add_polynomials(coeffs1, coeffs2):\n",
        "    return np.polyadd(coeffs1, coeffs2)\n",
        "\n",
        "coeffs1 = [1, 2, 3]\n",
        "coeffs2 = [3, 2, 1]\n",
        "result = add_polynomials(coeffs1, coeffs2)\n",
        "print(result)"
      ],
      "metadata": {
        "colab": {
          "base_uri": "https://localhost:8080/"
        },
        "id": "K6Fa_Ks6GWBw",
        "outputId": "bcae9681-ce94-4e0d-be43-b71764244980"
      },
      "execution_count": 171,
      "outputs": [
        {
          "output_type": "stream",
          "name": "stdout",
          "text": [
            "[4 4 4]\n"
          ]
        }
      ]
    },
    {
      "cell_type": "code",
      "source": [
        "# How to subtract one polynomial to another using NumPy in Python?\n",
        "\n",
        "def subtract_polynomials(coeffs1, coeffs2):\n",
        "    return np.polysub(coeffs1, coeffs2)\n",
        "\n",
        "coeffs1 = [1, 2, 3]\n",
        "coeffs2 = [3, 2, 1]\n",
        "result = subtract_polynomials(coeffs1, coeffs2)\n",
        "print(result)"
      ],
      "metadata": {
        "colab": {
          "base_uri": "https://localhost:8080/"
        },
        "id": "T35mIq4-GV7a",
        "outputId": "fa23ccec-1470-4b30-cf45-4fa160439ff2"
      },
      "execution_count": 170,
      "outputs": [
        {
          "output_type": "stream",
          "name": "stdout",
          "text": [
            "[-2  0  2]\n"
          ]
        }
      ]
    },
    {
      "cell_type": "code",
      "source": [
        "# How to multiply a polynomial to another using NumPy in Python?\n",
        "\n",
        "def multiply_polynomials(coeffs1, coeffs2):\n",
        "    return np.polymul(coeffs1, coeffs2)\n",
        "\n",
        "coeffs1 = [1, 2, 3]\n",
        "coeffs2 = [3, 2, 1]\n",
        "result = multiply_polynomials(coeffs1, coeffs2)\n",
        "print(result)"
      ],
      "metadata": {
        "colab": {
          "base_uri": "https://localhost:8080/"
        },
        "id": "fPt8K64KGV03",
        "outputId": "41efb859-b784-408f-9f64-4a86f0429863"
      },
      "execution_count": 169,
      "outputs": [
        {
          "output_type": "stream",
          "name": "stdout",
          "text": [
            "[ 3  8 14  8  3]\n"
          ]
        }
      ]
    },
    {
      "cell_type": "code",
      "source": [
        "# How to divide a polynomial to another using NumPy in Python?\n",
        "\n",
        "p1 = np.poly1d([1, 2, 3])\n",
        "p2 = np.poly1d([4, 5, 6])\n",
        "\n",
        "result = np.polydiv(p1, p2)\n",
        "\n",
        "print(\"Quotient: \", result[0])\n",
        "print(\"Remainder: \", result[1])"
      ],
      "metadata": {
        "colab": {
          "base_uri": "https://localhost:8080/"
        },
        "id": "0OC3sCxEGVuz",
        "outputId": "df60a24b-06dc-4fbd-fd90-3aab0f6a8455"
      },
      "execution_count": 168,
      "outputs": [
        {
          "output_type": "stream",
          "name": "stdout",
          "text": [
            "Quotient:   \n",
            "0.25\n",
            "Remainder:   \n",
            "0.75 x + 1.5\n"
          ]
        }
      ]
    },
    {
      "cell_type": "code",
      "source": [
        "# Find the roots of the polynomials using NumPy\n",
        "\n",
        "coefficients = [1, -5, 6]\n",
        "roots = np.roots(coefficients)\n",
        "print(\"Roots of the polynomial: \", roots)"
      ],
      "metadata": {
        "colab": {
          "base_uri": "https://localhost:8080/"
        },
        "id": "iVnEMSGqGVoB",
        "outputId": "d9fadbc5-cb81-4cb9-a162-d6c2a05d7cb6"
      },
      "execution_count": 167,
      "outputs": [
        {
          "output_type": "stream",
          "name": "stdout",
          "text": [
            "Roots of the polynomial:  [3. 2.]\n"
          ]
        }
      ]
    },
    {
      "cell_type": "code",
      "source": [
        "# Evaluate a 2-D polynomial series on the Cartesian product\n",
        "\n",
        "coefficients = [[2, 3, 1], [0, 1, 0]]\n",
        "x = [1, 2, 3]\n",
        "y = [4, 5, 6]\n",
        "result = np.polynomial.polynomial.polyval2d(x, y, coefficients)\n",
        "print(\"Result of the 2-D polynomial evaluation: \", result)\n"
      ],
      "metadata": {
        "colab": {
          "base_uri": "https://localhost:8080/"
        },
        "id": "YocCGZ7PGVhB",
        "outputId": "df2730ab-c99b-4210-c4bf-ce7b6cf2f47d"
      },
      "execution_count": 166,
      "outputs": [
        {
          "output_type": "stream",
          "name": "stdout",
          "text": [
            "Result of the 2-D polynomial evaluation:  [34. 52. 74.]\n"
          ]
        }
      ]
    },
    {
      "cell_type": "code",
      "source": [
        "# Evaluate a 3-D polynomial series on the Cartesian product\n",
        "\n",
        "coefficients = [[[1, 2], [3, 4]], [[5, 6], [7, 8]]]\n",
        "x = [1, 2]\n",
        "y = [3, 4]\n",
        "z = [5, 6]\n",
        "result = np.polynomial.polynomial.polyval3d(x, y, z, coefficients)\n",
        "print(\"Result of the 3-D polynomial evaluation: \", result)"
      ],
      "metadata": {
        "colab": {
          "base_uri": "https://localhost:8080/"
        },
        "id": "QBJFSrkbGVY5",
        "outputId": "0e393ea6-fec7-4de4-d0ff-a7dec9d4d869"
      },
      "execution_count": 165,
      "outputs": [
        {
          "output_type": "stream",
          "name": "stdout",
          "text": [
            "Result of the 3-D polynomial evaluation:  [256. 643.]\n"
          ]
        }
      ]
    },
    {
      "cell_type": "markdown",
      "source": [
        "## Questions on NumPy Strings"
      ],
      "metadata": {
        "id": "uF8CBMJiG3ro"
      }
    },
    {
      "cell_type": "code",
      "source": [
        "# Repeat all the elements of a NumPy array of strings\n",
        "\n",
        "arr = np.array([\"apple\", \"banana\", \"cherry\"])\n",
        "new_arr = np.repeat(arr, 3)\n",
        "print(new_arr)"
      ],
      "metadata": {
        "colab": {
          "base_uri": "https://localhost:8080/"
        },
        "id": "921TcBCuG9eL",
        "outputId": "918dc2a4-1e6a-4db3-8116-9a04e9c4255b"
      },
      "execution_count": 173,
      "outputs": [
        {
          "output_type": "stream",
          "name": "stdout",
          "text": [
            "['apple' 'apple' 'apple' 'banana' 'banana' 'banana' 'cherry' 'cherry'\n",
            " 'cherry']\n"
          ]
        }
      ]
    },
    {
      "cell_type": "code",
      "source": [
        "# How to split the element of a given NumPy array with spaces?\n",
        "\n",
        "arr = np.array([\"apple pear\", \"banana fruit\", \"cherry tree\"])\n",
        "new_arr = [i.split() for i in arr]\n",
        "print(new_arr)"
      ],
      "metadata": {
        "colab": {
          "base_uri": "https://localhost:8080/"
        },
        "id": "UzD3sAITG_2b",
        "outputId": "39d5dc06-32f3-4e5a-be3b-ec170fe90142"
      },
      "execution_count": 174,
      "outputs": [
        {
          "output_type": "stream",
          "name": "stdout",
          "text": [
            "[['apple', 'pear'], ['banana', 'fruit'], ['cherry', 'tree']]\n"
          ]
        }
      ]
    },
    {
      "cell_type": "code",
      "source": [
        "# How to insert a space between characters of all the elements of a given NumPy array?\n",
        "\n",
        "arr = np.array([\"apple\", \"banana\", \"cherry\"])\n",
        "new_arr = [i.replace(\"\", \" \").strip() for i in arr]\n",
        "print(new_arr)"
      ],
      "metadata": {
        "colab": {
          "base_uri": "https://localhost:8080/"
        },
        "id": "DSLpBtmHG_uh",
        "outputId": "b7933055-dd76-4713-eb22-657d989837e8"
      },
      "execution_count": 175,
      "outputs": [
        {
          "output_type": "stream",
          "name": "stdout",
          "text": [
            "['a p p l e', 'b a n a n a', 'c h e r r y']\n"
          ]
        }
      ]
    },
    {
      "cell_type": "code",
      "source": [
        "# Find the length of each string element in the Numpy array\n",
        "\n",
        "arr = np.array([\"apple\", \"banana\", \"cherry\"])\n",
        "new_arr = [len(i) for i in arr]\n",
        "print(new_arr)"
      ],
      "metadata": {
        "colab": {
          "base_uri": "https://localhost:8080/"
        },
        "id": "FJ7SbUFJG_ni",
        "outputId": "7bed15c7-cc3c-4196-9de1-98b58e63f56b"
      },
      "execution_count": 176,
      "outputs": [
        {
          "output_type": "stream",
          "name": "stdout",
          "text": [
            "[5, 6, 6]\n"
          ]
        }
      ]
    },
    {
      "cell_type": "code",
      "source": [
        "# Swap the case of an array of string\n",
        "\n",
        "arr = np.array([\"APPLE\", \"banana\", \"cherry\"])\n",
        "new_arr = [i.swapcase() for i in arr]\n",
        "print(new_arr)"
      ],
      "metadata": {
        "colab": {
          "base_uri": "https://localhost:8080/"
        },
        "id": "QIdzPUe8G_gK",
        "outputId": "1462ff74-3cc5-4172-d296-cae2d13bb0ee"
      },
      "execution_count": 177,
      "outputs": [
        {
          "output_type": "stream",
          "name": "stdout",
          "text": [
            "['apple', 'BANANA', 'CHERRY']\n"
          ]
        }
      ]
    },
    {
      "cell_type": "code",
      "source": [
        "# Change the case to uppercase of elements of an array\n",
        "\n",
        "arr = np.array(['Hello', 'world', 'in', 'UPPERCASE'])\n",
        "uppercase_arr = np.char.upper(arr)\n",
        "print(uppercase_arr)"
      ],
      "metadata": {
        "colab": {
          "base_uri": "https://localhost:8080/"
        },
        "id": "phjZWIRyG_Ya",
        "outputId": "f47742af-c794-4cfc-dbce-ebd74d56d7ca"
      },
      "execution_count": 178,
      "outputs": [
        {
          "output_type": "stream",
          "name": "stdout",
          "text": [
            "['HELLO' 'WORLD' 'IN' 'UPPERCASE']\n"
          ]
        }
      ]
    },
    {
      "cell_type": "code",
      "source": [
        "# Change the case to lowercase of elements of an array\n",
        "\n",
        "arr = np.array(['Hello', 'world', 'in', 'lowercase'])\n",
        "lowercase_arr = np.char.lower(arr)\n",
        "print(lowercase_arr)"
      ],
      "metadata": {
        "colab": {
          "base_uri": "https://localhost:8080/"
        },
        "id": "TmXJFYFDG_QI",
        "outputId": "15cdd891-d5f4-4fb8-b821-98c2ee65a9a3"
      },
      "execution_count": 179,
      "outputs": [
        {
          "output_type": "stream",
          "name": "stdout",
          "text": [
            "['hello' 'world' 'in' 'lowercase']\n"
          ]
        }
      ]
    },
    {
      "cell_type": "code",
      "source": [
        "# Join String by a seperator\n",
        "\n",
        "arr = np.array(['Hello', 'world'])\n",
        "joined_str = np.char.join(',', arr)\n",
        "print(joined_str)"
      ],
      "metadata": {
        "colab": {
          "base_uri": "https://localhost:8080/"
        },
        "id": "cyP4EXuSG_Ic",
        "outputId": "9103b487-21bc-42d7-cf7e-b4804004a403"
      },
      "execution_count": 180,
      "outputs": [
        {
          "output_type": "stream",
          "name": "stdout",
          "text": [
            "['H,e,l,l,o' 'w,o,r,l,d']\n"
          ]
        }
      ]
    },
    {
      "cell_type": "code",
      "source": [
        "# Check if two same shaped string arrayss one by one\n",
        "\n",
        "arr1 = np.array(['Hello', 'world'])\n",
        "arr2 = np.array(['Hello', 'world'])\n",
        "result = np.char.equal(arr1, arr2)\n",
        "print(result)"
      ],
      "metadata": {
        "colab": {
          "base_uri": "https://localhost:8080/"
        },
        "id": "QFZGQjOZG_B9",
        "outputId": "4f2c2cce-5f63-43e8-fcf6-69b3579fabe8"
      },
      "execution_count": 181,
      "outputs": [
        {
          "output_type": "stream",
          "name": "stdout",
          "text": [
            "[ True  True]\n"
          ]
        }
      ]
    },
    {
      "cell_type": "code",
      "source": [
        "# Count the number of substrings in an array\n",
        "\n",
        "arr = np.array(['Hello world', 'in python'])\n",
        "substring = 'o'\n",
        "count = np.char.count(arr, substring)\n",
        "print(count)"
      ],
      "metadata": {
        "colab": {
          "base_uri": "https://localhost:8080/"
        },
        "id": "UMz_S0C4G-67",
        "outputId": "2213b905-9e34-4908-c357-eb25865948ee"
      },
      "execution_count": 182,
      "outputs": [
        {
          "output_type": "stream",
          "name": "stdout",
          "text": [
            "[2 1]\n"
          ]
        }
      ]
    },
    {
      "cell_type": "code",
      "source": [
        "# Find the lowest index of the substring in an array\n",
        "\n",
        "def find_lowest_index(arr, substring):\n",
        "    for i, s in enumerate(arr):\n",
        "        if substring in s:\n",
        "            return i\n",
        "    return -1\n",
        "\n",
        "arr = np.array(['hello', 'world', 'foo', 'bar'])\n",
        "substring = 'oo'\n",
        "index = find_lowest_index(arr, substring)\n",
        "print(\"The lowest index of the substring is:\", index)"
      ],
      "metadata": {
        "colab": {
          "base_uri": "https://localhost:8080/"
        },
        "id": "w4CV5zCPG-zp",
        "outputId": "d61c7c26-cb5b-4ab9-f7ba-bdc8be226fcf"
      },
      "execution_count": 184,
      "outputs": [
        {
          "output_type": "stream",
          "name": "stdout",
          "text": [
            "The lowest index of the substring is: 2\n"
          ]
        }
      ]
    },
    {
      "cell_type": "code",
      "source": [
        "# Get the boolean array when values end with a particular character\n",
        "\n",
        "def end_with(arr, character):\n",
        "    return np.array([s.endswith(character) for s in arr])\n",
        "\n",
        "arr = np.array(['hello', 'world', 'foo', 'bar'])\n",
        "character = 'o'\n",
        "result = end_with(arr, character)\n",
        "print(\"Boolean array:\", result)"
      ],
      "metadata": {
        "colab": {
          "base_uri": "https://localhost:8080/"
        },
        "id": "lPw-Bd3OG-s3",
        "outputId": "12137f9a-2d44-486d-bbd9-0f34b908e2c8"
      },
      "execution_count": 185,
      "outputs": [
        {
          "output_type": "stream",
          "name": "stdout",
          "text": [
            "Boolean array: [ True False  True False]\n"
          ]
        }
      ]
    },
    {
      "cell_type": "code",
      "source": [
        "# Different ways to convert a Python dictionary to a NumPy array\n",
        "\n",
        "# Using numpy.array\n",
        "dict = {'a': 1, 'b': 2, 'c': 3}\n",
        "np_array = np.array(list(dict.items()))\n",
        "\n",
        "# Using numpy.fromiter\n",
        "dict = {'a': 1, 'b': 2, 'c': 3}\n",
        "np_array = np.fromiter(dict.items(), dtype=[('key', 'U10'), ('value', int)])\n",
        "\n",
        "# Using pandas\n",
        "import pandas as pd\n",
        "\n",
        "dict = {'a': 1, 'b': 2, 'c': 3}\n",
        "df = pd.DataFrame(list(dict.items()), columns=['key', 'value'])\n",
        "np_array = df.to_numpy()"
      ],
      "metadata": {
        "id": "-woo7J7TG-gJ"
      },
      "execution_count": 186,
      "outputs": []
    },
    {
      "cell_type": "code",
      "source": [
        "# How to convert a list and tuple into NumPy arrays?\n",
        "\n",
        "# Convert list to NumPy array\n",
        "list = [1, 2, 3, 4]\n",
        "np_array = np.array(list)\n",
        "\n",
        "# Convert tuple to NumPy array\n",
        "tuple = (1, 2, 3, 4)\n",
        "np_array = np.array(tuple)"
      ],
      "metadata": {
        "id": "OpCjzMD7G-Z1"
      },
      "execution_count": 187,
      "outputs": []
    },
    {
      "cell_type": "code",
      "source": [
        "# Ways to convert array of strings to array of floats\n",
        "\n",
        "arr = np.array([\"1.5\", \"2.6\", \"3.7\", \"4.8\"])\n",
        "new_arr = arr.astype(np.float)\n",
        "print(new_arr)"
      ],
      "metadata": {
        "colab": {
          "base_uri": "https://localhost:8080/"
        },
        "id": "ncsHkb8EG-S4",
        "outputId": "66c78bd5-c800-40f5-f4bb-b93589adb7a4"
      },
      "execution_count": 188,
      "outputs": [
        {
          "output_type": "stream",
          "name": "stdout",
          "text": [
            "[1.5 2.6 3.7 4.8]\n"
          ]
        },
        {
          "output_type": "stream",
          "name": "stderr",
          "text": [
            "<ipython-input-188-4d2cedcb13ff>:4: DeprecationWarning: `np.float` is a deprecated alias for the builtin `float`. To silence this warning, use `float` by itself. Doing this will not modify any behavior and is safe. If you specifically wanted the numpy scalar type, use `np.float64` here.\n",
            "Deprecated in NumPy 1.20; for more details and guidance: https://numpy.org/devdocs/release/1.20.0-notes.html#deprecations\n",
            "  new_arr = arr.astype(np.float)\n"
          ]
        }
      ]
    },
    {
      "cell_type": "code",
      "source": [
        "# Convert a NumPy array into a csv file\n",
        "\n",
        "arr = np.array([[1, 2, 3], [4, 5, 6]])\n",
        "np.savetxt(\"array.csv\", arr, delimiter=\",\")"
      ],
      "metadata": {
        "id": "e0PZayfiG-Nc"
      },
      "execution_count": 189,
      "outputs": []
    },
    {
      "cell_type": "code",
      "source": [
        "# How to Convert an image to NumPy array and save it to CSV file using Python?\n",
        "\n",
        "# read an image\n",
        "img = Image.open('image.jpg')\n",
        " \n",
        "# convert image object into array\n",
        "imageToMatrice = np.asarray(img)\n",
        " \n",
        "# printing shape of image\n",
        "print(imageToMatrice.shape)"
      ],
      "metadata": {
        "colab": {
          "base_uri": "https://localhost:8080/"
        },
        "id": "BExiXVw_G-HQ",
        "outputId": "f04e5028-2ccb-4d68-cf29-77ef31b92318"
      },
      "execution_count": 198,
      "outputs": [
        {
          "output_type": "stream",
          "name": "stdout",
          "text": [
            "(352, 625, 3)\n"
          ]
        }
      ]
    },
    {
      "cell_type": "code",
      "source": [
        "# How to save a NumPy array to a text file?\n",
        "\n",
        "arr = np.array([1, 2, 3, 4, 5])\n",
        "np.savetxt(\"array.txt\", arr)"
      ],
      "metadata": {
        "id": "GzHouCVfG-AS"
      },
      "execution_count": 192,
      "outputs": []
    },
    {
      "cell_type": "code",
      "source": [
        "# Load data from a text file\n",
        "\n",
        "arr = np.loadtxt(\"array.txt\")\n",
        "print(arr)"
      ],
      "metadata": {
        "colab": {
          "base_uri": "https://localhost:8080/"
        },
        "id": "d4n-WID5G96b",
        "outputId": "92626d9a-e849-4b91-e4d8-120303041b55"
      },
      "execution_count": 193,
      "outputs": [
        {
          "output_type": "stream",
          "name": "stdout",
          "text": [
            "[1. 2. 3. 4. 5.]\n"
          ]
        }
      ]
    },
    {
      "cell_type": "code",
      "source": [
        "# Plot line graph from NumPy array\n",
        "\n",
        "x = np.linspace(0, 10, 50)\n",
        "y = np.sin(x)\n",
        "\n",
        "plt.plot(x, y)\n",
        "plt.show()"
      ],
      "metadata": {
        "colab": {
          "base_uri": "https://localhost:8080/",
          "height": 265
        },
        "id": "Np-LfoMGG90p",
        "outputId": "e1255386-46f9-4186-f297-7e774ad9502f"
      },
      "execution_count": 194,
      "outputs": [
        {
          "output_type": "display_data",
          "data": {
            "text/plain": [
              "<Figure size 432x288 with 1 Axes>"
            ],
            "image/png": "[encoded data removed]"
          },
          "metadata": {
            "needs_background": "light"
          }
        }
      ]
    },
    {
      "cell_type": "code",
      "source": [
        "# Create Histogram using NumPy\n",
        "\n",
        "data = np.random.normal(100, 20, 1000)\n",
        "\n",
        "plt.hist(data, bins=50, color='blue', alpha=0.5)\n",
        "plt.show()"
      ],
      "metadata": {
        "colab": {
          "base_uri": "https://localhost:8080/",
          "height": 265
        },
        "id": "XzecUweSIX9z",
        "outputId": "d6e5875c-9c82-4dff-95e2-66ec9bb46241"
      },
      "execution_count": 195,
      "outputs": [
        {
          "output_type": "display_data",
          "data": {
            "text/plain": [
              "<Figure size 432x288 with 1 Axes>"
            ],
            "image/png": "[encoded data removed]"
          },
          "metadata": {
            "needs_background": "light"
          }
        }
      ]
    }
  ]
}